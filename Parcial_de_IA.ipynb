{
  "nbformat": 4,
  "nbformat_minor": 0,
  "metadata": {
    "colab": {
      "provenance": [],
      "authorship_tag": "ABX9TyP2lL1VC5JxxMxydDnIV9Gd",
      "include_colab_link": true
    },
    "kernelspec": {
      "name": "python3",
      "display_name": "Python 3"
    },
    "language_info": {
      "name": "python"
    }
  },
  "cells": [
    {
      "cell_type": "markdown",
      "metadata": {
        "id": "view-in-github",
        "colab_type": "text"
      },
      "source": [
        "<a href=\"https://colab.research.google.com/github/valquero779/Inteligencia-Artifcial/blob/main/Parcial_de_IA.ipynb\" target=\"_parent\"><img src=\"https://colab.research.google.com/assets/colab-badge.svg\" alt=\"Open In Colab\"/></a>"
      ]
    },
    {
      "cell_type": "code",
      "source": [
        "pip install wfdb"
      ],
      "metadata": {
        "colab": {
          "base_uri": "https://localhost:8080/"
        },
        "id": "bKD4ITDVjxXc",
        "outputId": "0b9848b9-9f64-43b4-c51e-5e41d8430f71"
      },
      "execution_count": 8,
      "outputs": [
        {
          "output_type": "stream",
          "name": "stdout",
          "text": [
            "Looking in indexes: https://pypi.org/simple, https://us-python.pkg.dev/colab-wheels/public/simple/\n",
            "Requirement already satisfied: wfdb in /usr/local/lib/python3.7/dist-packages (4.0.0)\n",
            "Requirement already satisfied: pandas<2.0.0,>=1.0.0 in /usr/local/lib/python3.7/dist-packages (from wfdb) (1.3.5)\n",
            "Requirement already satisfied: scipy<2.0.0,>=1.0.0 in /usr/local/lib/python3.7/dist-packages (from wfdb) (1.7.3)\n",
            "Requirement already satisfied: SoundFile<0.12.0,>=0.10.0 in /usr/local/lib/python3.7/dist-packages (from wfdb) (0.11.0)\n",
            "Requirement already satisfied: requests<3.0.0,>=2.8.1 in /usr/local/lib/python3.7/dist-packages (from wfdb) (2.23.0)\n",
            "Requirement already satisfied: numpy<2.0.0,>=1.10.1 in /usr/local/lib/python3.7/dist-packages (from wfdb) (1.21.6)\n",
            "Requirement already satisfied: matplotlib<4.0.0,>=3.2.2 in /usr/local/lib/python3.7/dist-packages (from wfdb) (3.2.2)\n",
            "Requirement already satisfied: pyparsing!=2.0.4,!=2.1.2,!=2.1.6,>=2.0.1 in /usr/local/lib/python3.7/dist-packages (from matplotlib<4.0.0,>=3.2.2->wfdb) (3.0.9)\n",
            "Requirement already satisfied: cycler>=0.10 in /usr/local/lib/python3.7/dist-packages (from matplotlib<4.0.0,>=3.2.2->wfdb) (0.11.0)\n",
            "Requirement already satisfied: kiwisolver>=1.0.1 in /usr/local/lib/python3.7/dist-packages (from matplotlib<4.0.0,>=3.2.2->wfdb) (1.4.4)\n",
            "Requirement already satisfied: python-dateutil>=2.1 in /usr/local/lib/python3.7/dist-packages (from matplotlib<4.0.0,>=3.2.2->wfdb) (2.8.2)\n",
            "Requirement already satisfied: typing-extensions in /usr/local/lib/python3.7/dist-packages (from kiwisolver>=1.0.1->matplotlib<4.0.0,>=3.2.2->wfdb) (4.1.1)\n",
            "Requirement already satisfied: pytz>=2017.3 in /usr/local/lib/python3.7/dist-packages (from pandas<2.0.0,>=1.0.0->wfdb) (2022.5)\n",
            "Requirement already satisfied: six>=1.5 in /usr/local/lib/python3.7/dist-packages (from python-dateutil>=2.1->matplotlib<4.0.0,>=3.2.2->wfdb) (1.15.0)\n",
            "Requirement already satisfied: chardet<4,>=3.0.2 in /usr/local/lib/python3.7/dist-packages (from requests<3.0.0,>=2.8.1->wfdb) (3.0.4)\n",
            "Requirement already satisfied: urllib3!=1.25.0,!=1.25.1,<1.26,>=1.21.1 in /usr/local/lib/python3.7/dist-packages (from requests<3.0.0,>=2.8.1->wfdb) (1.24.3)\n",
            "Requirement already satisfied: certifi>=2017.4.17 in /usr/local/lib/python3.7/dist-packages (from requests<3.0.0,>=2.8.1->wfdb) (2022.9.24)\n",
            "Requirement already satisfied: idna<3,>=2.5 in /usr/local/lib/python3.7/dist-packages (from requests<3.0.0,>=2.8.1->wfdb) (2.10)\n",
            "Requirement already satisfied: cffi>=1.0 in /usr/local/lib/python3.7/dist-packages (from SoundFile<0.12.0,>=0.10.0->wfdb) (1.15.1)\n",
            "Requirement already satisfied: pycparser in /usr/local/lib/python3.7/dist-packages (from cffi>=1.0->SoundFile<0.12.0,>=0.10.0->wfdb) (2.21)\n"
          ]
        }
      ]
    },
    {
      "cell_type": "code",
      "execution_count": 9,
      "metadata": {
        "id": "fWMWnWSxcSaN"
      },
      "outputs": [],
      "source": [
        "import wfdb\n",
        "import random\n",
        "import pandas as pd\n",
        "from sklearn.neural_network import MLPClassifier\n",
        "from sklearn.datasets import make_classification\n",
        "from sklearn.model_selection import train_test_split\n",
        "from sklearn.neural_network import MLPClassifier\n",
        "from sklearn.datasets import make_classification\n",
        "from sklearn.model_selection import train_test_split\n",
        "import os\n",
        "import statistics\n",
        "import matplotlib.pyplot as plt\n",
        "import numpy as np\n",
        "\n",
        "\n",
        "listaContenido= os.listdir(\"/content/\")\n",
        "listaContenido.sort()\n",
        "listaDatos=[]\n",
        "listaatr=[]\n",
        "listaxws=[]\n",
        "listahea=[]\n",
        "listadat=[]\n",
        "señales0=[]\n",
        "señales1=[]"
      ]
    },
    {
      "cell_type": "code",
      "source": [
        "print(listaContenido)"
      ],
      "metadata": {
        "colab": {
          "base_uri": "https://localhost:8080/"
        },
        "id": "CbUBiwt4inrd",
        "outputId": "be20cb8b-ae12-4469-d724-3ca1f059157a"
      },
      "execution_count": 10,
      "outputs": [
        {
          "output_type": "stream",
          "name": "stdout",
          "text": [
            "['.config', '16265.atr', '16265.dat', '16265.hea', '16265.xws', '16272.atr', '16272.dat', '16272.hea', '16272.xws', '16273.atr', '16273.dat', '16273.hea', '16273.xws', '16420.atr', '16420.dat', '16420.hea', '16420.xws', '16483.atr', '16483.dat', '16483.hea', '16483.xws', '16539.atr', '16539.dat', '16539.hea', '16539.xws', '16773.atr', '16773.dat', '16773.hea', '16773.xws', '16786.atr', '16786.dat', '16786.hea', '16786.xws', '16795.atr', '16795.dat', '16795.hea', '16795.xws', '17052.atr', '17052.dat', '17052.hea', '17052.xws', '17453.atr', '17453.dat', '17453.hea', '17453.xws', '18177.atr', '18177.dat', '18177.hea', '18177.xws', '18184.atr', '18184.dat', '18184.hea', '18184.xws', '19088.atr', '19088.dat', '19088.hea', '19088.xws', '19090.atr', '19090.dat', '19090.hea', '19090.xws', '19093.atr', '19093.dat', '19093.hea', '19093.xws', '19140.atr', '19140.dat', '19140.hea', '19140.xws', '19830.atr', '19830.dat', '19830.hea', '19830.xws', 'sample_data']\n"
          ]
        }
      ]
    },
    {
      "cell_type": "code",
      "source": [
        "for i in listaContenido:\n",
        "  if i.__contains__(\".atr\"):\n",
        "    listaDatos.append(i.replace(\".atr\",\"\"))\n",
        "    listaatr.append(i)\n",
        "  elif i.__contains__(\".xws\"):\n",
        "    listaxws.append(i)\n",
        "  elif i.__contains__(\".hea\"):\n",
        "    listahea.append(i)\n",
        "  elif i.__contains__(\".dat\"):\n",
        "    listadat.append(i)   \n",
        "\n",
        "print(listaDatos)\n",
        "print(listaatr)\n",
        "print(listaxws)\n",
        "print(listahea)\n",
        "print(listadat)\n"
      ],
      "metadata": {
        "colab": {
          "base_uri": "https://localhost:8080/"
        },
        "id": "-6sGnaqvjaks",
        "outputId": "a25a2d08-5f48-450b-9f4f-e7745898005c"
      },
      "execution_count": 11,
      "outputs": [
        {
          "output_type": "stream",
          "name": "stdout",
          "text": [
            "['16265', '16272', '16273', '16420', '16483', '16539', '16773', '16786', '16795', '17052', '17453', '18177', '18184', '19088', '19090', '19093', '19140', '19830']\n",
            "['16265.atr', '16272.atr', '16273.atr', '16420.atr', '16483.atr', '16539.atr', '16773.atr', '16786.atr', '16795.atr', '17052.atr', '17453.atr', '18177.atr', '18184.atr', '19088.atr', '19090.atr', '19093.atr', '19140.atr', '19830.atr']\n",
            "['16265.xws', '16272.xws', '16273.xws', '16420.xws', '16483.xws', '16539.xws', '16773.xws', '16786.xws', '16795.xws', '17052.xws', '17453.xws', '18177.xws', '18184.xws', '19088.xws', '19090.xws', '19093.xws', '19140.xws', '19830.xws']\n",
            "['16265.hea', '16272.hea', '16273.hea', '16420.hea', '16483.hea', '16539.hea', '16773.hea', '16786.hea', '16795.hea', '17052.hea', '17453.hea', '18177.hea', '18184.hea', '19088.hea', '19090.hea', '19093.hea', '19140.hea', '19830.hea']\n",
            "['16265.dat', '16272.dat', '16273.dat', '16420.dat', '16483.dat', '16539.dat', '16773.dat', '16786.dat', '16795.dat', '17052.dat', '17453.dat', '18177.dat', '18184.dat', '19088.dat', '19090.dat', '19093.dat', '19140.dat', '19830.dat']\n"
          ]
        }
      ]
    },
    {
      "cell_type": "code",
      "source": [
        "for i in listaDatos:\n",
        "  \n",
        "\n",
        "  pepito=wfdb.rdrecord(i)\n",
        "  \n",
        "  señales0.append(pepito.p_signal[:,0])\n",
        "  señales1.append(pepito.p_signal[:,1])\n",
        "  \n",
        " \n"
      ],
      "metadata": {
        "id": "J-bBDh0AlY5D"
      },
      "execution_count": 12,
      "outputs": []
    },
    {
      "cell_type": "code",
      "source": [
        "\n",
        "fig = plt.figure(figsize =(10, 7))\n",
        " \n",
        "\n",
        "plt.boxplot(señales0)\n",
        "\n",
        "plt.show()"
      ],
      "metadata": {
        "colab": {
          "base_uri": "https://localhost:8080/",
          "height": 483
        },
        "id": "frQxGsVnn9zC",
        "outputId": "12d335b5-abf5-44f0-c421-8c692c72bb79"
      },
      "execution_count": 13,
      "outputs": [
        {
          "output_type": "stream",
          "name": "stderr",
          "text": [
            "/usr/local/lib/python3.7/dist-packages/matplotlib/cbook/__init__.py:1376: VisibleDeprecationWarning: Creating an ndarray from ragged nested sequences (which is a list-or-tuple of lists-or-tuples-or ndarrays with different lengths or shapes) is deprecated. If you meant to do this, you must specify 'dtype=object' when creating the ndarray.\n",
            "  X = np.atleast_1d(X.T if isinstance(X, np.ndarray) else np.asarray(X))\n"
          ]
        },
        {
          "output_type": "display_data",
          "data": {
            "text/plain": [
              "<Figure size 720x504 with 1 Axes>"
            ],
            "image/png": "[encoded data removed]"
          },
          "metadata": {
            "needs_background": "light"
          }
        }
      ]
    },
    {
      "cell_type": "code",
      "source": [
        "fig = plt.figure(figsize =(10, 7))\n",
        " \n",
        "\n",
        "plt.boxplot(señales1)\n",
        "\n",
        "plt.show()"
      ],
      "metadata": {
        "colab": {
          "base_uri": "https://localhost:8080/",
          "height": 483
        },
        "id": "5ibR0d-fsKer",
        "outputId": "a60c1fa5-32c7-4edc-9309-7351f49c31f2"
      },
      "execution_count": 14,
      "outputs": [
        {
          "output_type": "stream",
          "name": "stderr",
          "text": [
            "/usr/local/lib/python3.7/dist-packages/matplotlib/cbook/__init__.py:1376: VisibleDeprecationWarning: Creating an ndarray from ragged nested sequences (which is a list-or-tuple of lists-or-tuples-or ndarrays with different lengths or shapes) is deprecated. If you meant to do this, you must specify 'dtype=object' when creating the ndarray.\n",
            "  X = np.atleast_1d(X.T if isinstance(X, np.ndarray) else np.asarray(X))\n"
          ]
        },
        {
          "output_type": "display_data",
          "data": {
            "text/plain": [
              "<Figure size 720x504 with 1 Axes>"
            ],
            "image/png": "[encoded data removed]"
          },
          "metadata": {
            "needs_background": "light"
          }
        }
      ]
    },
    {
      "cell_type": "code",
      "source": [],
      "metadata": {
        "id": "o5GJ1IQpsz1C"
      },
      "execution_count": null,
      "outputs": []
    }
  ]
}