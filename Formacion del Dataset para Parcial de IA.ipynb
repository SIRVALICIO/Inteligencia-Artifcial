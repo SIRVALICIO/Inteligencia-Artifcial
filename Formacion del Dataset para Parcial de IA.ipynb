{
 "cells": [
  {
   "cell_type": "markdown",
   "metadata": {},
   "source": [
    "# Parcial de FMIA\n",
    "## Realizar un algoritmo que me permita identificar el latido cardiaco en una señal ECG utilizando patrones (características obtenidas de segmentos de la señal) utilizando como método o camino para ello redes neuronales artificiales (ANN).\n",
    "\n",
    "### En este documento se explora formalizar el dataset que usara para el entrenamiento, por lo cual, se explora y analiza todo el contenido de las señales, para asi poder parametrizar y evaluar cuales son las caracteristicas  mas optimas para el entrenamiento\n",
    "\n",
    "\n",
    "### NOTA: USAR ESTE VIDEO PARA EVITAR QUE LE TIRE ERROR DE QUE NO ALCANZAN LOS OUPUTS:\n",
    "https://youtu.be/B_YlLf6fa5A\n"
   ]
  },
  {
   "cell_type": "code",
   "execution_count": 21,
   "metadata": {
    "colab": {
     "base_uri": "https://localhost:8080/"
    },
    "id": "bKD4ITDVjxXc",
    "outputId": "19bf6e1e-1a5c-4ca6-ed27-8c80dc379de4"
   },
   "outputs": [
    {
     "name": "stdout",
     "output_type": "stream",
     "text": [
      "Requirement already satisfied: wfdb in c:\\users\\andre\\anaconda3\\lib\\site-packages (4.0.0)\n",
      "Requirement already satisfied: pandas<2.0.0,>=1.0.0 in c:\\users\\andre\\anaconda3\\lib\\site-packages (from wfdb) (1.4.2)\n",
      "Requirement already satisfied: numpy<2.0.0,>=1.10.1 in c:\\users\\andre\\anaconda3\\lib\\site-packages (from wfdb) (1.21.5)\n",
      "Requirement already satisfied: requests<3.0.0,>=2.8.1 in c:\\users\\andre\\anaconda3\\lib\\site-packages (from wfdb) (2.27.1)\n",
      "Requirement already satisfied: matplotlib<4.0.0,>=3.2.2 in c:\\users\\andre\\anaconda3\\lib\\site-packages (from wfdb) (3.5.1)\n",
      "Requirement already satisfied: SoundFile<0.12.0,>=0.10.0 in c:\\users\\andre\\anaconda3\\lib\\site-packages (from wfdb) (0.11.0)\n",
      "Requirement already satisfied: scipy<2.0.0,>=1.0.0 in c:\\users\\andre\\anaconda3\\lib\\site-packages (from wfdb) (1.7.3)\n",
      "Requirement already satisfied: pillow>=6.2.0 in c:\\users\\andre\\anaconda3\\lib\\site-packages (from matplotlib<4.0.0,>=3.2.2->wfdb) (9.0.1)\n",
      "Requirement already satisfied: fonttools>=4.22.0 in c:\\users\\andre\\anaconda3\\lib\\site-packages (from matplotlib<4.0.0,>=3.2.2->wfdb) (4.25.0)\n",
      "Requirement already satisfied: pyparsing>=2.2.1 in c:\\users\\andre\\anaconda3\\lib\\site-packages (from matplotlib<4.0.0,>=3.2.2->wfdb) (3.0.4)\n",
      "Requirement already satisfied: packaging>=20.0 in c:\\users\\andre\\anaconda3\\lib\\site-packages (from matplotlib<4.0.0,>=3.2.2->wfdb) (21.3)\n",
      "Requirement already satisfied: cycler>=0.10 in c:\\users\\andre\\anaconda3\\lib\\site-packages (from matplotlib<4.0.0,>=3.2.2->wfdb) (0.11.0)\n",
      "Requirement already satisfied: python-dateutil>=2.7 in c:\\users\\andre\\anaconda3\\lib\\site-packages (from matplotlib<4.0.0,>=3.2.2->wfdb) (2.8.2)\n",
      "Requirement already satisfied: kiwisolver>=1.0.1 in c:\\users\\andre\\anaconda3\\lib\\site-packages (from matplotlib<4.0.0,>=3.2.2->wfdb) (1.3.2)\n",
      "Requirement already satisfied: pytz>=2020.1 in c:\\users\\andre\\anaconda3\\lib\\site-packages (from pandas<2.0.0,>=1.0.0->wfdb) (2021.3)\n",
      "Requirement already satisfied: six>=1.5 in c:\\users\\andre\\anaconda3\\lib\\site-packages (from python-dateutil>=2.7->matplotlib<4.0.0,>=3.2.2->wfdb) (1.16.0)\n",
      "Requirement already satisfied: certifi>=2017.4.17 in c:\\users\\andre\\anaconda3\\lib\\site-packages (from requests<3.0.0,>=2.8.1->wfdb) (2021.10.8)\n",
      "Requirement already satisfied: charset-normalizer~=2.0.0 in c:\\users\\andre\\anaconda3\\lib\\site-packages (from requests<3.0.0,>=2.8.1->wfdb) (2.0.4)\n",
      "Requirement already satisfied: urllib3<1.27,>=1.21.1 in c:\\users\\andre\\anaconda3\\lib\\site-packages (from requests<3.0.0,>=2.8.1->wfdb) (1.26.9)\n",
      "Requirement already satisfied: idna<4,>=2.5 in c:\\users\\andre\\anaconda3\\lib\\site-packages (from requests<3.0.0,>=2.8.1->wfdb) (3.3)\n",
      "Requirement already satisfied: cffi>=1.0 in c:\\users\\andre\\anaconda3\\lib\\site-packages (from SoundFile<0.12.0,>=0.10.0->wfdb) (1.15.0)\n",
      "Requirement already satisfied: pycparser in c:\\users\\andre\\anaconda3\\lib\\site-packages (from cffi>=1.0->SoundFile<0.12.0,>=0.10.0->wfdb) (2.21)\n",
      "Note: you may need to restart the kernel to use updated packages.\n"
     ]
    }
   ],
   "source": [
    "pip install wfdb #Esta libreria vista en clase permite acceder a funciones que nos permitiran el uso de las señales en su totalidad"
   ]
  },
  {
   "cell_type": "markdown",
   "metadata": {},
   "source": [
    "### Como es necesario trabajar con todas las señales solicitadas, lo mejor es hacer uso de un ciclo que nos permita recolectar todas las señales, asi como los archivos que los compone, como los son los atr, xws, hea y dat"
   ]
  },
  {
   "cell_type": "code",
   "execution_count": 22,
   "metadata": {
    "id": "fWMWnWSxcSaN"
   },
   "outputs": [],
   "source": [
    "import wfdb #importamos el manejo de señals\n",
    "import pandas as pd #importamos pandas para asi al termminar exportar un dataser que usarmoes para el entrenamiento\n",
    "import os #libreria operative system que permite acceder a funciones como de enlistado de archivos del sistema\n",
    "import statistics #libreria de funciones matematicas que aportan al desarrollo del Dataset\n",
    "import matplotlib.pyplot as plt #Liberia usada para la generacion de graficos, para realizar analisis de las señales\n",
    "import numpy as np #libreria matematica, facilita el resultado de vectores compuestos\n",
    "import statistics as stat #libreria estadistica, como hay funciones que numpy no puede cumplir, esta puede sulir esa necesida\n",
    "from scipy import stats as s #Libreria matematica, que statistics, entrega funciones que hacen falta para el desarrollo de resultados vectoriales\n",
    "from statistics import median #Importamos esecificamente este paquete de statistic para poder resolver ciertos datos en especial\n",
    " \n",
    "   \n",
    "listaContenido= os.listdir(\"C:/Users/andre/Downloads/content/\")  #Si se va a correr el codigo e  collaba se recomienda poner \"/content/\" para el dir, si no, poner la ruta especifica que encuentra en su ordenador\n",
    "\n",
    "listaContenido.sort() #Ordena de menor a mayor el listado de datos que se encuentra por el listdir, para asi poder recorrer la lista de mejor manera y clasificar los datos en posiciones que van a ser constante entre listas\n",
    "\n",
    "listaDatos=[] #Esta lista funciona como contenedor de los nombre de las señales, sin tener en cuenta sus propiedades\n",
    "listaatr=[] #Con esta lista se almacenaran los ATR\n",
    "listaxws=[] #con esta lista se almacenara los XWS\n",
    "listahea=[] #Con esta lista se almacenara los HEA\n",
    "listadat=[] #con esta lista se almacenara los DAT\n",
    "señales0=[] #Con esta lista se alamcenara la primera parte de la señal, dado que la señal se compone 2 partes\n",
    "señales1=[] #con esta lista se almacenara la segunda parte de la señal"
   ]
  },
  {
   "cell_type": "code",
   "execution_count": 23,
   "metadata": {
    "colab": {
     "base_uri": "https://localhost:8080/"
    },
    "id": "CbUBiwt4inrd",
    "outputId": "e77167da-d42b-4a93-fa5e-d20c07c32efe"
   },
   "outputs": [
    {
     "name": "stdout",
     "output_type": "stream",
     "text": [
      "['.ipynb_checkpoints', '16265.atr', '16265.dat', '16265.hea', '16265.xws', '16272.atr', '16272.dat', '16272.hea', '16272.xws', '16273.atr', '16273.dat', '16273.hea', '16273.xws', '16420.atr', '16420.dat', '16420.hea', '16420.xws', '16483.atr', '16483.dat', '16483.hea', '16483.xws', '16539.atr', '16539.dat', '16539.hea', '16539.xws', '16773.atr', '16773.dat', '16773.hea', '16773.xws', '16786.atr', '16786.dat', '16786.hea', '16786.xws', '16795.atr', '16795.dat', '16795.hea', '16795.xws', '17052.atr', '17052.dat', '17052.hea', '17052.xws', '17453.atr', '17453.dat', '17453.hea', '17453.xws', '18177.atr', '18177.dat', '18177.hea', '18177.xws', '18184.atr', '18184.dat', '18184.hea', '18184.xws', '19088.atr', '19088.dat', '19088.hea', '19088.xws', '19090.atr', '19090.dat', '19090.hea', '19090.xws', '19093.atr', '19093.dat', '19093.hea', '19093.xws', '19140.atr', '19140.dat', '19140.hea', '19140.xws', '19830.atr', '19830.dat', '19830.hea', '19830.xws', 'DataFramelatidos.csv', 'Parcial_de_IA.ipynb', 'Untitled.ipynb']\n"
     ]
    }
   ],
   "source": [
    "print(listaContenido)# muesta el contenido que contiene el dir que se encontro al hacer la operacion"
   ]
  },
  {
   "cell_type": "code",
   "execution_count": 24,
   "metadata": {
    "colab": {
     "base_uri": "https://localhost:8080/"
    },
    "id": "-6sGnaqvjaks",
    "outputId": "665bb23c-a22c-4b37-bf12-05e6d64ce222"
   },
   "outputs": [
    {
     "name": "stdout",
     "output_type": "stream",
     "text": [
      "['16265', '16272', '16273', '16420', '16483', '16539', '16773', '16786', '16795', '17052', '17453', '18177', '18184', '19088', '19090', '19093', '19140', '19830']\n",
      "['16265.atr', '16272.atr', '16273.atr', '16420.atr', '16483.atr', '16539.atr', '16773.atr', '16786.atr', '16795.atr', '17052.atr', '17453.atr', '18177.atr', '18184.atr', '19088.atr', '19090.atr', '19093.atr', '19140.atr', '19830.atr']\n",
      "['16265.xws', '16272.xws', '16273.xws', '16420.xws', '16483.xws', '16539.xws', '16773.xws', '16786.xws', '16795.xws', '17052.xws', '17453.xws', '18177.xws', '18184.xws', '19088.xws', '19090.xws', '19093.xws', '19140.xws', '19830.xws']\n",
      "['16265.hea', '16272.hea', '16273.hea', '16420.hea', '16483.hea', '16539.hea', '16773.hea', '16786.hea', '16795.hea', '17052.hea', '17453.hea', '18177.hea', '18184.hea', '19088.hea', '19090.hea', '19093.hea', '19140.hea', '19830.hea']\n",
      "['16265.dat', '16272.dat', '16273.dat', '16420.dat', '16483.dat', '16539.dat', '16773.dat', '16786.dat', '16795.dat', '17052.dat', '17453.dat', '18177.dat', '18184.dat', '19088.dat', '19090.dat', '19093.dat', '19140.dat', '19830.dat']\n"
     ]
    }
   ],
   "source": [
    "#Este for recorrear todos loas archivos que se enceutnran en la lista dir, para asi poder comenzar a clasificar los documentos segun su extesnion en un lista, ademas que obtendremos el nombre de la señal para trabajar mas tarde\n",
    "for i in listaContenido:\n",
    "  if i.__contains__(\".atr\"):#se añade a la lista los de extension ATR\n",
    "    listaDatos.append(i.replace(\".atr\",\"\")) #como sabemos que los señales estan compuestas por varias extensiones, se tomo la decision que en la extension atr tambien se comenzaran a almacenar la señal que se esta trabajando\n",
    "    listaatr.append(i) \n",
    "  elif i.__contains__(\".xws\"):#Se añade a la lista los de extension XWS\n",
    "    listaxws.append(i) \n",
    "  elif i.__contains__(\".hea\"): #Se añade a la lista los de extension HEA\n",
    "    listahea.append(i)\n",
    "  elif i.__contains__(\".dat\"):#se añade a la lista los de extension DAT\n",
    "    listadat.append(i)   \n",
    "\n",
    "    \n",
    "#Se imprimen todas las listas para asi poder obserar si los datos estan en la lisma posicion, pero en sus listas correspondiente, que como se puede ver en la impresion, asi es.\n",
    "print(listaDatos)\n",
    "print(listaatr)\n",
    "print(listaxws)\n",
    "print(listahea)\n",
    "print(listadat)\n"
   ]
  },
  {
   "cell_type": "code",
   "execution_count": 25,
   "metadata": {
    "colab": {
     "base_uri": "https://localhost:8080/"
    },
    "id": "J-bBDh0AlY5D",
    "outputId": "e5bbfe24-b470-4982-8bb9-2c100b134c61"
   },
   "outputs": [
    {
     "name": "stdout",
     "output_type": "stream",
     "text": [
      "128\n",
      "128\n",
      "128\n",
      "128\n",
      "128\n",
      "128\n",
      "128\n",
      "128\n",
      "128\n",
      "128\n",
      "128\n",
      "128\n",
      "128\n",
      "128\n",
      "128\n",
      "128\n",
      "128\n",
      "128\n"
     ]
    }
   ],
   "source": [
    "#en este apratodo, recorremos la lista de señals para comenzar a almacenar todas las señaes\n",
    "#Se obtiene que por señal cuando ocurre 1 segundo, hay un total de 128 datos\n",
    "for i in listaDatos:\n",
    "  \n",
    "\n",
    "  pepito=wfdb.rdrecord(i)#se obtiene el record de la señal i, siendo i la señal obtenida en esa señal\n",
    "  \n",
    "  señales0.append(pepito.p_signal[:,0])#se almacena la señal 0 del record de la señal i\n",
    "  señales1.append(pepito.p_signal[:,1])#Se alamcne la señal 1 del record de la señal i\n",
    "  print(pepito.fs)#se imprime cuantos datos por segudo tiene la señal\n",
    " \n"
   ]
  },
  {
   "cell_type": "code",
   "execution_count": 26,
   "metadata": {
    "colab": {
     "base_uri": "https://localhost:8080/",
     "height": 483
    },
    "id": "frQxGsVnn9zC",
    "outputId": "48289f38-3bea-4860-e202-7b8c5e014e3b"
   },
   "outputs": [
    {
     "data": {
      "image/png": "[encoded data removed]",
      "text/plain": [
       "<Figure size 720x504 with 1 Axes>"
      ]
     },
     "metadata": {
      "needs_background": "light"
     },
     "output_type": "display_data"
    }
   ],
   "source": [
    "#realizamos un box plot o diagrama de cajas y bigotes para explorar la existencia e datos atipicos en la señal\n",
    "fig = plt.figure(figsize =(10, 7))# se crea el espacio de la figura\n",
    " \n",
    "\n",
    "plt.boxplot(señales0)#se añade la señal 0 a la figura al matplotlib para que asi pueda gnerar el diagrma\n",
    "\n",
    "plt.show() # se representa el diagrama"
   ]
  },
  {
   "cell_type": "code",
   "execution_count": 27,
   "metadata": {
    "colab": {
     "base_uri": "https://localhost:8080/",
     "height": 483
    },
    "id": "5ibR0d-fsKer",
    "outputId": "7a64e486-5010-4761-e587-eff230dcad49"
   },
   "outputs": [
    {
     "data": {
      "image/png": "[encoded data removed]",
      "text/plain": [
       "<Figure size 720x504 with 1 Axes>"
      ]
     },
     "metadata": {
      "needs_background": "light"
     },
     "output_type": "display_data"
    }
   ],
   "source": [
    "fig = plt.figure(figsize =(10, 7))\n",
    " \n",
    "\n",
    "plt.boxplot(señales1)#se añade la señal 1 a la figura al matplotlib para que asi pueda gnerar el diagrma\n",
    "\n",
    "\n",
    "plt.show()"
   ]
  },
  {
   "cell_type": "code",
   "execution_count": 28,
   "metadata": {
    "colab": {
     "base_uri": "https://localhost:8080/"
    },
    "id": "o5GJ1IQpsz1C",
    "outputId": "1d29ff1e-2497-4521-b038-a5ad297e4c49"
   },
   "outputs": [
    {
     "name": "stdout",
     "output_type": "stream",
     "text": [
      "[       1       52      129 ... 10247715 10247823 10247936]\n",
      "100955\n",
      "[       1       73      199 ... 10802593 10802693 10802777]\n",
      "97146\n",
      "[      9      87     164 ... 9516519 9516612 9516699]\n",
      "90097\n",
      "[     68     148     228 ... 9953381 9953468 9953510]\n",
      "102436\n",
      "[     18      99     178 ... 9740551 9740634 9740719]\n",
      "104561\n",
      "[      72      168      268 ... 10837587 10837734 10837764]\n",
      "108674\n",
      "[       1       50       90 ... 10002106 10002148 10002201]\n",
      "112897\n",
      "[      16       87      195 ... 10758439 10758536 10758639]\n",
      "101739\n",
      "[     11      58     118 ... 9567523 9567587 9567651]\n",
      "87678\n",
      "[     35     150     264 ... 9779088 9779185 9779269]\n",
      "88002\n",
      "[      1      93     182 ... 9533641 9533735 9533793]\n",
      "101173\n",
      "[      54      122      190 ... 10377129 11169423 11178268]\n",
      "117004\n",
      "[      1      78     175 ... 9639200 9639344 9639488]\n",
      "102672\n",
      "[      1      36     100 ... 9294409 9294493 9294532]\n",
      "117880\n",
      "[     11      75     139 ... 8861856 8861963 8862027]\n",
      "81953\n",
      "[      1      62     126 ... 9246183 9246278 9246306]\n",
      "83670\n",
      "[     21      85     149 ... 9220843 9220939 9220988]\n",
      "96992\n",
      "[      1      49     113 ... 9723388 9723469 9723523]\n",
      "111263\n"
     ]
    }
   ],
   "source": [
    "#Este for se utiliza para explorar el primeramente cuatnas anotaciones de ocurrencias de latido ocurren, en donde ocurren, y cuantos latidos en si se prsentan\n",
    "for i in listaDatos:\n",
    "  anotaciones=wfdb.rdann(i,\"atr\").sample # se obtiene el sample de anotaciones ocurridas en la señal i\n",
    "  print(anotaciones) #Se imprime el sample para saber las posiciones de la señal donde ocurre un latido\n",
    "  print(len(anotaciones))#se imprime cuantos latidos en si ocurren en toda la señal"
   ]
  },
  {
   "cell_type": "code",
   "execution_count": 29,
   "metadata": {
    "colab": {
     "base_uri": "https://localhost:8080/"
    },
    "id": "pM5yMqdMb74C",
    "outputId": "4dc7128d-35a3-4c8f-91f9-e02d323b73b7"
   },
   "outputs": [
    {
     "name": "stdout",
     "output_type": "stream",
     "text": [
      "91648.0\n",
      "90000.0\n",
      "88704.0\n",
      "86336.0\n",
      "93440.0\n",
      "88496.0\n",
      "86304.0\n",
      "88160.0\n",
      "84896.0\n",
      "83280.0\n",
      "87776.0\n",
      "93440.0\n",
      "85488.0\n",
      "85680.0\n",
      "87056.0\n",
      "83640.0\n",
      "87024.0\n",
      "83608.0\n"
     ]
    }
   ],
   "source": [
    "#como sabemos que la señales tiene un total de 128 datos pro segundo, podemos saber en si, cuantos segundos ocurren por señal\n",
    "for i in señales0:\n",
    "  print(len(i)/128)# se hace la proporcion de datos por datos por segundo para encontrar el total de seg por señal para ir analizando si las señales se encuentran cercanas a los mismos tiempos\n",
    "  "
   ]
  },
  {
   "cell_type": "markdown",
   "metadata": {},
   "source": [
    "## El número de características a evaluar debe ser mayor a 5, sin límite máximo de cantidad de ellas.\n",
    "\n",
    "# NOTA: Este algoritmo se realizará sin desplazamiento de una ventana deslizante. Es decir, se realizará dentro de un conjunto de datos, en donde este debe contener las características y la salida o categoría de estas características (tal como en la base de datos de cancer)"
   ]
  },
  {
   "cell_type": "code",
   "execution_count": 30,
   "metadata": {
    "colab": {
     "base_uri": "https://localhost:8080/"
    },
    "id": "kv2CETOv3Pnh",
    "outputId": "3a690eb3-733b-46e4-c076-e1f71c91504a"
   },
   "outputs": [
    {
     "name": "stdout",
     "output_type": "stream",
     "text": [
      "16265\n",
      "16272\n",
      "16273\n",
      "16420\n",
      "16483\n",
      "16539\n",
      "16773\n",
      "16786\n",
      "16795\n",
      "17052\n",
      "17453\n",
      "18177\n",
      "18184\n",
      "19088\n",
      "19090\n",
      "19093\n",
      "19140\n",
      "19830\n"
     ]
    }
   ],
   "source": [
    "#son 128 muestras por segundo, por ende para sacar la cantidad de muestras en x tiempo se debe multiplicar por el tiempo que quiero saner cuantas muestras existen\n",
    "\n",
    "#Si seguimos la ecuacion, entonces si existe 128 muestras por segundo, si usamos 0,15 seg de muestra, entonces obtenemos 20 muestras en solo 0,15 seg.\n",
    "FilasDataSet=[]# generamos una lista que alamcena los datos que obtendremos de cada latido para el entrenamiento\n",
    "\n",
    "\n",
    "\n",
    "for i in listaDatos:# se usa un recorrido sobre toda las lista de datos para poder recorrer todos los latidos por señal\n",
    "    print(i)#imprime el numero de la señal\n",
    "    anotaciones=wfdb.rdann(i,\"atr\").sample #se obtiene el smple de la señal para poder obtener cuando ocurre un latido\n",
    "    \n",
    "    pepito=wfdb.rdrecord(i)# se obtiene la señal\n",
    "    signals=pepito.p_signal#se toma la muestra de la señal en si\n",
    "    signals0=signals[:,0]#se usa la parte 1 que tomaremos como señal 0\n",
    "    for j in anotaciones:#se recorre las posiciones donde ocurre un latido\n",
    "        filaActual=[]#Se crea una fila temporal, que sirve como un medio de alamacenar las lineas del dataset\n",
    "        if anotaciones[0]==j:#La primera posicion de los latidos se piensa obciar, dado que la ventana de observacion es de 20, y como usualmente l primera posicion del latido es 1, puede que cuando se aplique la ventana no pueda ocupar en si la ventana\n",
    "            #print(\"Si\")\n",
    "            continue   \n",
    "        elif anotaciones[-1]==j:#Lo mismo ocurre con la ultima posicion, si el latido en la ultima posicion no tiene un espacio extenso para ventana, puede tirar error\n",
    "            break\n",
    "        else:\n",
    "            #si no se cumple ninguna de las condiciones anterioires, se comienza a sacar las 6 dinamicas importantes\n",
    "            \n",
    "\n",
    "            Vboser=signals0[int(i)-10:int(i)+10] # se obtiene la veatna de 20 de la señal en la posicion i\n",
    "            #print(Vboser)\n",
    "            media=float(np.mean(Vboser))#se obtiene la media de la ventana\n",
    "            #print(media)\n",
    "            moda=float(s.mode(Vboser)[0])#se obtiene la moda de la ventana, en la posicion 0, dado que pude que se tenga 2 resultados modales\n",
    "            #print(moda)\n",
    "            mediana=float(np.median(Vboser)) #Se obtiene la mediana de los datos\n",
    "            medianaAlta=float(statistics.median_high(Vboser)) #Se obtiene la median alata de los datos \n",
    "            \n",
    "            kurtosis=np.std(Vboser) #Se obtiene la kurtosis de los datos\n",
    "            \n",
    "            Desviacion=statistics.pstdev(Vboser) #Se obtiene la desviacion de los daos\n",
    "            \n",
    "            # las siguientes 6 lienas se añaden a la lista para funcionar como lienas del dataset\n",
    "            filaActual.append(media) \n",
    "            filaActual.append(mediana)\n",
    "            filaActual.append(medianaAlta)\n",
    "            filaActual.append(moda)\n",
    "            filaActual.append(kurtosis)\n",
    "            filaActual.append(Desviacion)\n",
    "            filaActual.append(1)#Esta linea no se obtiene en si de ninguna medida, asumimos que este dato es 1, dado que, la lista de anotaciones nos da las posiciones que son en si latidos, y como ocurre un latido, para el entrenamiento este valor debe ser de 1\n",
    "            \n",
    "        FilasDataSet.append(filaActual)# se añade la fila a la lista"
   ]
  },
  {
   "cell_type": "code",
   "execution_count": 31,
   "metadata": {
    "colab": {
     "base_uri": "https://localhost:8080/"
    },
    "id": "oQe2GohvJ2K5",
    "outputId": "ea74f4a5-e6ea-4df0-cb40-97778a310955"
   },
   "outputs": [
    {
     "name": "stdout",
     "output_type": "stream",
     "text": [
      "1806756\n",
      "[-0.10750000000000001, -0.115, -0.115, -0.145, 0.05760859310901456, 0.05760859310901456, 1]\n"
     ]
    }
   ],
   "source": [
    "print(len(FilasDataSet))# se obtiene el tamaño de la lista para saber en si cuantos datos de latidos obtuvimos\n",
    "#print(FilasDataSet[1])#tomamos un pequeño tamaño de la muestra para hacernos idea de como funciona en si y como se almacenara"
   ]
  },
  {
   "cell_type": "code",
   "execution_count": 32,
   "metadata": {},
   "outputs": [],
   "source": [
    "#Este bloque de codigo funciona e la misma manera, pero cambia en algunos sentidos para que podamos obtener los datos de un no latido\n",
    "#como es necesario obtener los datos que no son latidos peo se deben tomar de manera epsecifica, se usan datos  aletaorios en una ventana para asegurar que el dato sea ideal\n",
    "\n",
    "for i in listaDatos:\n",
    "    #print(i)\n",
    "    anotaciones=wfdb.rdann(i,\"atr\").sample\n",
    "    \n",
    "    pepito=wfdb.rdrecord(i)\n",
    "    signals=pepito.p_signal\n",
    "    signals0=signals[:,0]\n",
    "    for j in range (0,len(anotaciones)): # se recorre las anotaciones, pero no en la sposiciones especificas de los latidos, si no que se recorre todo en si\n",
    "        \n",
    "        if anotaciones[0]==j:\n",
    "            #print(\"Si\")\n",
    "            continue   \n",
    "        elif anotaciones[-1]==j:\n",
    "            break\n",
    "        else:\n",
    "            try:\n",
    "                \n",
    "                    #print(\"Entre\")\n",
    "                    filaActual=[]\n",
    "                    #print(anotaciones[i])\n",
    "                    posicionAleatoria=random.randint(anotaciones[int(i)]+20, anotaciones[int(i)+1]-20)# para poder asegurar la aleatoriedad de las posciones y que nno se superponga con los datos del latido, se usa una restriccion de los datos\n",
    "                    #se desliza la ventana 40 posiciones, 20 mas haya de la posicion i y 20 menos en la posicion i+1. es decir, si i es 20,y i+1 es 200, la ventana quedara en 40 y 180, esto permite elegir un dato entre esa ventana que no se soberponga en un latido \n",
    "                    #print(posicionAleatoria)\n",
    "\n",
    "                    Vboser=signals0[posicionAleatoria-10:posicionAleatoria+10]\n",
    "                    #print(Vboser)\n",
    "                    media=float(np.mean(Vboser))\n",
    "                    #print(media)\n",
    "                    moda=float(s.mode(Vboser)[0])\n",
    "                    #print(moda)\n",
    "                    mediana=float(np.median(Vboser))\n",
    "                    medianaAlta=float(statistics.median_high(Vboser))\n",
    "                    kurtosis=np.std(Vboser)\n",
    "\n",
    "                    Desviacion=statistics.pstdev(Vboser)\n",
    "\n",
    "                    filaActual.append(media)\n",
    "                    filaActual.append(mediana)\n",
    "                    filaActual.append(medianaAlta)\n",
    "                    filaActual.append(moda)\n",
    "                    filaActual.append(kurtosis)\n",
    "                    filaActual.append(Desviacion)\n",
    "                    filaActual.append(0)# Otro cmabio es, que el dato se considera un no latido, por lo cual se añade como  0 para el entrenamiento\n",
    "                    #print(len(filaActual))\n",
    "                    \n",
    "        \n",
    "                    FilasDataSet.append(filaActual)\n",
    "            except:\n",
    "                continue\n",
    "           "
   ]
  },
  {
   "cell_type": "code",
   "execution_count": 33,
   "metadata": {},
   "outputs": [
    {
     "name": "stdout",
     "output_type": "stream",
     "text": [
      "[-0.0915, -0.09, -0.085, -0.035, 0.04552746423863292, 0.04552746423863292, 0]\n"
     ]
    }
   ],
   "source": [
    "print(FilasDataSet[-1])"
   ]
  },
  {
   "cell_type": "code",
   "execution_count": 34,
   "metadata": {},
   "outputs": [
    {
     "name": "stdout",
     "output_type": "stream",
     "text": [
      "3613530\n"
     ]
    }
   ],
   "source": [
    "print(len(FilasDataSet)) #Se imprime el total del tamaño del dataset"
   ]
  },
  {
   "cell_type": "code",
   "execution_count": 35,
   "metadata": {},
   "outputs": [
    {
     "data": {
      "text/html": [
       "<div>\n",
       "<style scoped>\n",
       "    .dataframe tbody tr th:only-of-type {\n",
       "        vertical-align: middle;\n",
       "    }\n",
       "\n",
       "    .dataframe tbody tr th {\n",
       "        vertical-align: top;\n",
       "    }\n",
       "\n",
       "    .dataframe thead th {\n",
       "        text-align: right;\n",
       "    }\n",
       "</style>\n",
       "<table border=\"1\" class=\"dataframe\">\n",
       "  <thead>\n",
       "    <tr style=\"text-align: right;\">\n",
       "      <th></th>\n",
       "      <th>Media</th>\n",
       "      <th>Mediana</th>\n",
       "      <th>Mediana Alta</th>\n",
       "      <th>Moda</th>\n",
       "      <th>Kurtosis</th>\n",
       "      <th>Desviacion Estandar</th>\n",
       "      <th>Outcome</th>\n",
       "    </tr>\n",
       "  </thead>\n",
       "  <tbody>\n",
       "    <tr>\n",
       "      <th>0</th>\n",
       "      <td>-0.1075</td>\n",
       "      <td>-0.115</td>\n",
       "      <td>-0.115</td>\n",
       "      <td>-0.145</td>\n",
       "      <td>0.057609</td>\n",
       "      <td>0.057609</td>\n",
       "      <td>1</td>\n",
       "    </tr>\n",
       "    <tr>\n",
       "      <th>1</th>\n",
       "      <td>-0.1075</td>\n",
       "      <td>-0.115</td>\n",
       "      <td>-0.115</td>\n",
       "      <td>-0.145</td>\n",
       "      <td>0.057609</td>\n",
       "      <td>0.057609</td>\n",
       "      <td>1</td>\n",
       "    </tr>\n",
       "    <tr>\n",
       "      <th>2</th>\n",
       "      <td>-0.1075</td>\n",
       "      <td>-0.115</td>\n",
       "      <td>-0.115</td>\n",
       "      <td>-0.145</td>\n",
       "      <td>0.057609</td>\n",
       "      <td>0.057609</td>\n",
       "      <td>1</td>\n",
       "    </tr>\n",
       "    <tr>\n",
       "      <th>3</th>\n",
       "      <td>-0.1075</td>\n",
       "      <td>-0.115</td>\n",
       "      <td>-0.115</td>\n",
       "      <td>-0.145</td>\n",
       "      <td>0.057609</td>\n",
       "      <td>0.057609</td>\n",
       "      <td>1</td>\n",
       "    </tr>\n",
       "    <tr>\n",
       "      <th>4</th>\n",
       "      <td>-0.1075</td>\n",
       "      <td>-0.115</td>\n",
       "      <td>-0.115</td>\n",
       "      <td>-0.145</td>\n",
       "      <td>0.057609</td>\n",
       "      <td>0.057609</td>\n",
       "      <td>1</td>\n",
       "    </tr>\n",
       "    <tr>\n",
       "      <th>...</th>\n",
       "      <td>...</td>\n",
       "      <td>...</td>\n",
       "      <td>...</td>\n",
       "      <td>...</td>\n",
       "      <td>...</td>\n",
       "      <td>...</td>\n",
       "      <td>...</td>\n",
       "    </tr>\n",
       "    <tr>\n",
       "      <th>3613525</th>\n",
       "      <td>-0.0855</td>\n",
       "      <td>-0.090</td>\n",
       "      <td>-0.085</td>\n",
       "      <td>-0.115</td>\n",
       "      <td>0.038141</td>\n",
       "      <td>0.038141</td>\n",
       "      <td>0</td>\n",
       "    </tr>\n",
       "    <tr>\n",
       "      <th>3613526</th>\n",
       "      <td>-0.1285</td>\n",
       "      <td>-0.145</td>\n",
       "      <td>-0.135</td>\n",
       "      <td>-0.205</td>\n",
       "      <td>0.064597</td>\n",
       "      <td>0.064597</td>\n",
       "      <td>0</td>\n",
       "    </tr>\n",
       "    <tr>\n",
       "      <th>3613527</th>\n",
       "      <td>-0.1025</td>\n",
       "      <td>-0.105</td>\n",
       "      <td>-0.105</td>\n",
       "      <td>-0.115</td>\n",
       "      <td>0.016993</td>\n",
       "      <td>0.016993</td>\n",
       "      <td>0</td>\n",
       "    </tr>\n",
       "    <tr>\n",
       "      <th>3613528</th>\n",
       "      <td>-0.1285</td>\n",
       "      <td>-0.145</td>\n",
       "      <td>-0.135</td>\n",
       "      <td>-0.205</td>\n",
       "      <td>0.064597</td>\n",
       "      <td>0.064597</td>\n",
       "      <td>0</td>\n",
       "    </tr>\n",
       "    <tr>\n",
       "      <th>3613529</th>\n",
       "      <td>-0.0915</td>\n",
       "      <td>-0.090</td>\n",
       "      <td>-0.085</td>\n",
       "      <td>-0.035</td>\n",
       "      <td>0.045527</td>\n",
       "      <td>0.045527</td>\n",
       "      <td>0</td>\n",
       "    </tr>\n",
       "  </tbody>\n",
       "</table>\n",
       "<p>3613530 rows × 7 columns</p>\n",
       "</div>"
      ],
      "text/plain": [
       "          Media  Mediana  Mediana Alta   Moda  Kurtosis  Desviacion Estandar  \\\n",
       "0       -0.1075   -0.115        -0.115 -0.145  0.057609             0.057609   \n",
       "1       -0.1075   -0.115        -0.115 -0.145  0.057609             0.057609   \n",
       "2       -0.1075   -0.115        -0.115 -0.145  0.057609             0.057609   \n",
       "3       -0.1075   -0.115        -0.115 -0.145  0.057609             0.057609   \n",
       "4       -0.1075   -0.115        -0.115 -0.145  0.057609             0.057609   \n",
       "...         ...      ...           ...    ...       ...                  ...   \n",
       "3613525 -0.0855   -0.090        -0.085 -0.115  0.038141             0.038141   \n",
       "3613526 -0.1285   -0.145        -0.135 -0.205  0.064597             0.064597   \n",
       "3613527 -0.1025   -0.105        -0.105 -0.115  0.016993             0.016993   \n",
       "3613528 -0.1285   -0.145        -0.135 -0.205  0.064597             0.064597   \n",
       "3613529 -0.0915   -0.090        -0.085 -0.035  0.045527             0.045527   \n",
       "\n",
       "         Outcome  \n",
       "0              1  \n",
       "1              1  \n",
       "2              1  \n",
       "3              1  \n",
       "4              1  \n",
       "...          ...  \n",
       "3613525        0  \n",
       "3613526        0  \n",
       "3613527        0  \n",
       "3613528        0  \n",
       "3613529        0  \n",
       "\n",
       "[3613530 rows x 7 columns]"
      ]
     },
     "execution_count": 35,
     "metadata": {},
     "output_type": "execute_result"
    }
   ],
   "source": [
    "DataFramelatidos = pd.DataFrame(FilasDataSet, columns = ['Media','Mediana','Mediana Alta','Moda',\"Kurtosis\",\"Desviacion Estandar\",\"Outcome\"])\n",
    "#esta linea permite dar los datos como un dataframe de pandas, dando como columnas los datos que selccionamos, y las filas son de la lista que obtuvimos\n",
    "DataFramelatidos # se presenta el dato"
   ]
  },
  {
   "cell_type": "code",
   "execution_count": 36,
   "metadata": {},
   "outputs": [
    {
     "data": {
      "text/html": [
       "<div>\n",
       "<style scoped>\n",
       "    .dataframe tbody tr th:only-of-type {\n",
       "        vertical-align: middle;\n",
       "    }\n",
       "\n",
       "    .dataframe tbody tr th {\n",
       "        vertical-align: top;\n",
       "    }\n",
       "\n",
       "    .dataframe thead th {\n",
       "        text-align: right;\n",
       "    }\n",
       "</style>\n",
       "<table border=\"1\" class=\"dataframe\">\n",
       "  <thead>\n",
       "    <tr style=\"text-align: right;\">\n",
       "      <th></th>\n",
       "      <th>Media</th>\n",
       "      <th>Mediana</th>\n",
       "      <th>Mediana Alta</th>\n",
       "      <th>Moda</th>\n",
       "      <th>Kurtosis</th>\n",
       "      <th>Desviacion Estandar</th>\n",
       "      <th>Outcome</th>\n",
       "    </tr>\n",
       "  </thead>\n",
       "  <tbody>\n",
       "    <tr>\n",
       "      <th>0</th>\n",
       "      <td>-0.1075</td>\n",
       "      <td>-0.115</td>\n",
       "      <td>-0.115</td>\n",
       "      <td>-0.145</td>\n",
       "      <td>0.057609</td>\n",
       "      <td>0.057609</td>\n",
       "      <td>1</td>\n",
       "    </tr>\n",
       "    <tr>\n",
       "      <th>1</th>\n",
       "      <td>-0.1075</td>\n",
       "      <td>-0.115</td>\n",
       "      <td>-0.115</td>\n",
       "      <td>-0.145</td>\n",
       "      <td>0.057609</td>\n",
       "      <td>0.057609</td>\n",
       "      <td>1</td>\n",
       "    </tr>\n",
       "    <tr>\n",
       "      <th>2</th>\n",
       "      <td>-0.1075</td>\n",
       "      <td>-0.115</td>\n",
       "      <td>-0.115</td>\n",
       "      <td>-0.145</td>\n",
       "      <td>0.057609</td>\n",
       "      <td>0.057609</td>\n",
       "      <td>1</td>\n",
       "    </tr>\n",
       "    <tr>\n",
       "      <th>3</th>\n",
       "      <td>-0.1075</td>\n",
       "      <td>-0.115</td>\n",
       "      <td>-0.115</td>\n",
       "      <td>-0.145</td>\n",
       "      <td>0.057609</td>\n",
       "      <td>0.057609</td>\n",
       "      <td>1</td>\n",
       "    </tr>\n",
       "    <tr>\n",
       "      <th>4</th>\n",
       "      <td>-0.1075</td>\n",
       "      <td>-0.115</td>\n",
       "      <td>-0.115</td>\n",
       "      <td>-0.145</td>\n",
       "      <td>0.057609</td>\n",
       "      <td>0.057609</td>\n",
       "      <td>1</td>\n",
       "    </tr>\n",
       "    <tr>\n",
       "      <th>...</th>\n",
       "      <td>...</td>\n",
       "      <td>...</td>\n",
       "      <td>...</td>\n",
       "      <td>...</td>\n",
       "      <td>...</td>\n",
       "      <td>...</td>\n",
       "      <td>...</td>\n",
       "    </tr>\n",
       "    <tr>\n",
       "      <th>3613525</th>\n",
       "      <td>-0.0855</td>\n",
       "      <td>-0.090</td>\n",
       "      <td>-0.085</td>\n",
       "      <td>-0.115</td>\n",
       "      <td>0.038141</td>\n",
       "      <td>0.038141</td>\n",
       "      <td>0</td>\n",
       "    </tr>\n",
       "    <tr>\n",
       "      <th>3613526</th>\n",
       "      <td>-0.1285</td>\n",
       "      <td>-0.145</td>\n",
       "      <td>-0.135</td>\n",
       "      <td>-0.205</td>\n",
       "      <td>0.064597</td>\n",
       "      <td>0.064597</td>\n",
       "      <td>0</td>\n",
       "    </tr>\n",
       "    <tr>\n",
       "      <th>3613527</th>\n",
       "      <td>-0.1025</td>\n",
       "      <td>-0.105</td>\n",
       "      <td>-0.105</td>\n",
       "      <td>-0.115</td>\n",
       "      <td>0.016993</td>\n",
       "      <td>0.016993</td>\n",
       "      <td>0</td>\n",
       "    </tr>\n",
       "    <tr>\n",
       "      <th>3613528</th>\n",
       "      <td>-0.1285</td>\n",
       "      <td>-0.145</td>\n",
       "      <td>-0.135</td>\n",
       "      <td>-0.205</td>\n",
       "      <td>0.064597</td>\n",
       "      <td>0.064597</td>\n",
       "      <td>0</td>\n",
       "    </tr>\n",
       "    <tr>\n",
       "      <th>3613529</th>\n",
       "      <td>-0.0915</td>\n",
       "      <td>-0.090</td>\n",
       "      <td>-0.085</td>\n",
       "      <td>-0.035</td>\n",
       "      <td>0.045527</td>\n",
       "      <td>0.045527</td>\n",
       "      <td>0</td>\n",
       "    </tr>\n",
       "  </tbody>\n",
       "</table>\n",
       "<p>3613530 rows × 7 columns</p>\n",
       "</div>"
      ],
      "text/plain": [
       "          Media  Mediana  Mediana Alta   Moda  Kurtosis  Desviacion Estandar  \\\n",
       "0       -0.1075   -0.115        -0.115 -0.145  0.057609             0.057609   \n",
       "1       -0.1075   -0.115        -0.115 -0.145  0.057609             0.057609   \n",
       "2       -0.1075   -0.115        -0.115 -0.145  0.057609             0.057609   \n",
       "3       -0.1075   -0.115        -0.115 -0.145  0.057609             0.057609   \n",
       "4       -0.1075   -0.115        -0.115 -0.145  0.057609             0.057609   \n",
       "...         ...      ...           ...    ...       ...                  ...   \n",
       "3613525 -0.0855   -0.090        -0.085 -0.115  0.038141             0.038141   \n",
       "3613526 -0.1285   -0.145        -0.135 -0.205  0.064597             0.064597   \n",
       "3613527 -0.1025   -0.105        -0.105 -0.115  0.016993             0.016993   \n",
       "3613528 -0.1285   -0.145        -0.135 -0.205  0.064597             0.064597   \n",
       "3613529 -0.0915   -0.090        -0.085 -0.035  0.045527             0.045527   \n",
       "\n",
       "         Outcome  \n",
       "0              1  \n",
       "1              1  \n",
       "2              1  \n",
       "3              1  \n",
       "4              1  \n",
       "...          ...  \n",
       "3613525        0  \n",
       "3613526        0  \n",
       "3613527        0  \n",
       "3613528        0  \n",
       "3613529        0  \n",
       "\n",
       "[3613530 rows x 7 columns]"
      ]
     },
     "execution_count": 36,
     "metadata": {},
     "output_type": "execute_result"
    }
   ],
   "source": [
    "DataFramelatidosCopia=DataFramelatidos# se hace una copia de los datos para evitar dañar la fuetne original\n",
    "DataFramelatidosCopia"
   ]
  },
  {
   "cell_type": "code",
   "execution_count": 37,
   "metadata": {},
   "outputs": [
    {
     "data": {
      "text/plain": [
       "<AxesSubplot:>"
      ]
     },
     "execution_count": 37,
     "metadata": {},
     "output_type": "execute_result"
    },
    {
     "data": {
      "image/png": "[encoded data removed]",
      "text/plain": [
       "<Figure size 432x288 with 1 Axes>"
      ]
     },
     "metadata": {
      "needs_background": "light"
     },
     "output_type": "display_data"
    }
   ],
   "source": [
    "DataFramelatidosCopia.boxplot() #obtenemos los datos en un boxplot para ver la cantidad de atipicos que se encuentra en el dataframe"
   ]
  },
  {
   "cell_type": "code",
   "execution_count": 38,
   "metadata": {},
   "outputs": [
    {
     "data": {
      "text/html": [
       "<div>\n",
       "<style scoped>\n",
       "    .dataframe tbody tr th:only-of-type {\n",
       "        vertical-align: middle;\n",
       "    }\n",
       "\n",
       "    .dataframe tbody tr th {\n",
       "        vertical-align: top;\n",
       "    }\n",
       "\n",
       "    .dataframe thead th {\n",
       "        text-align: right;\n",
       "    }\n",
       "</style>\n",
       "<table border=\"1\" class=\"dataframe\">\n",
       "  <thead>\n",
       "    <tr style=\"text-align: right;\">\n",
       "      <th></th>\n",
       "      <th>Media</th>\n",
       "      <th>Mediana</th>\n",
       "      <th>Mediana Alta</th>\n",
       "      <th>Moda</th>\n",
       "      <th>Kurtosis</th>\n",
       "      <th>Desviacion Estandar</th>\n",
       "      <th>Outcome</th>\n",
       "    </tr>\n",
       "  </thead>\n",
       "  <tbody>\n",
       "    <tr>\n",
       "      <th>Media</th>\n",
       "      <td>1.000000</td>\n",
       "      <td>0.951229</td>\n",
       "      <td>0.949588</td>\n",
       "      <td>0.367388</td>\n",
       "      <td>0.647278</td>\n",
       "      <td>0.647278</td>\n",
       "      <td>0.135955</td>\n",
       "    </tr>\n",
       "    <tr>\n",
       "      <th>Mediana</th>\n",
       "      <td>0.951229</td>\n",
       "      <td>1.000000</td>\n",
       "      <td>0.999089</td>\n",
       "      <td>0.288767</td>\n",
       "      <td>0.532701</td>\n",
       "      <td>0.532701</td>\n",
       "      <td>0.102471</td>\n",
       "    </tr>\n",
       "    <tr>\n",
       "      <th>Mediana Alta</th>\n",
       "      <td>0.949588</td>\n",
       "      <td>0.999089</td>\n",
       "      <td>1.000000</td>\n",
       "      <td>0.269153</td>\n",
       "      <td>0.545473</td>\n",
       "      <td>0.545473</td>\n",
       "      <td>0.103325</td>\n",
       "    </tr>\n",
       "    <tr>\n",
       "      <th>Moda</th>\n",
       "      <td>0.367388</td>\n",
       "      <td>0.288767</td>\n",
       "      <td>0.269153</td>\n",
       "      <td>1.000000</td>\n",
       "      <td>-0.137283</td>\n",
       "      <td>-0.137283</td>\n",
       "      <td>-0.095694</td>\n",
       "    </tr>\n",
       "    <tr>\n",
       "      <th>Kurtosis</th>\n",
       "      <td>0.647278</td>\n",
       "      <td>0.532701</td>\n",
       "      <td>0.545473</td>\n",
       "      <td>-0.137283</td>\n",
       "      <td>1.000000</td>\n",
       "      <td>1.000000</td>\n",
       "      <td>0.297075</td>\n",
       "    </tr>\n",
       "    <tr>\n",
       "      <th>Desviacion Estandar</th>\n",
       "      <td>0.647278</td>\n",
       "      <td>0.532701</td>\n",
       "      <td>0.545473</td>\n",
       "      <td>-0.137283</td>\n",
       "      <td>1.000000</td>\n",
       "      <td>1.000000</td>\n",
       "      <td>0.297075</td>\n",
       "    </tr>\n",
       "    <tr>\n",
       "      <th>Outcome</th>\n",
       "      <td>0.135955</td>\n",
       "      <td>0.102471</td>\n",
       "      <td>0.103325</td>\n",
       "      <td>-0.095694</td>\n",
       "      <td>0.297075</td>\n",
       "      <td>0.297075</td>\n",
       "      <td>1.000000</td>\n",
       "    </tr>\n",
       "  </tbody>\n",
       "</table>\n",
       "</div>"
      ],
      "text/plain": [
       "                        Media   Mediana  Mediana Alta      Moda  Kurtosis  \\\n",
       "Media                1.000000  0.951229      0.949588  0.367388  0.647278   \n",
       "Mediana              0.951229  1.000000      0.999089  0.288767  0.532701   \n",
       "Mediana Alta         0.949588  0.999089      1.000000  0.269153  0.545473   \n",
       "Moda                 0.367388  0.288767      0.269153  1.000000 -0.137283   \n",
       "Kurtosis             0.647278  0.532701      0.545473 -0.137283  1.000000   \n",
       "Desviacion Estandar  0.647278  0.532701      0.545473 -0.137283  1.000000   \n",
       "Outcome              0.135955  0.102471      0.103325 -0.095694  0.297075   \n",
       "\n",
       "                     Desviacion Estandar   Outcome  \n",
       "Media                           0.647278  0.135955  \n",
       "Mediana                         0.532701  0.102471  \n",
       "Mediana Alta                    0.545473  0.103325  \n",
       "Moda                           -0.137283 -0.095694  \n",
       "Kurtosis                        1.000000  0.297075  \n",
       "Desviacion Estandar             1.000000  0.297075  \n",
       "Outcome                         0.297075  1.000000  "
      ]
     },
     "execution_count": 38,
     "metadata": {},
     "output_type": "execute_result"
    }
   ],
   "source": [
    "DataFramelatidosCopia.corr()# se imprime una matriz de correlacion para ver cual es la correlacion de los datos"
   ]
  },
  {
   "cell_type": "code",
   "execution_count": 39,
   "metadata": {},
   "outputs": [
    {
     "data": {
      "text/plain": [
       "'\"\\nfor i in DataFramelatidosCopia.columns[0:-1]:\\n    print(i)\\n'"
      ]
     },
     "execution_count": 39,
     "metadata": {},
     "output_type": "execute_result"
    }
   ],
   "source": [
    "\"\"\"\"\n",
    "for i in DataFramelatidosCopia.columns[0:-1]:\n",
    "    print(i)\n",
    "\"\"\""
   ]
  },
  {
   "cell_type": "code",
   "execution_count": 40,
   "metadata": {},
   "outputs": [
    {
     "data": {
      "text/plain": [
       "\"\\nfor i in DataFramelatidosCopia.columns[0:-1]:\\n    q_low = DataFramelatidosCopia[i].quantile(0.20)\\n    q_hi  = DataFramelatidosCopia[i].quantile(0.80)\\n\\n    DataFramelatidosCopia = DataFramelatidosCopia[(DataFramelatidosCopia[i] < q_hi) & (DataFramelatidosCopia[i] > q_low)]\\n    DataFramelatidosCopia\\n    \\n    for i in DataFramelatidosCopia.columns[0:-1]:\\n  #print(datosDeCancerCopia)\\n  #print(i)\\n    q1 = np.percentile(DataFramelatidosCopia[i], 30,\\n               interpolation  = 'midpoint')\\n    q3 = np.percentile(DataFramelatidosCopia[i], 70,\\n               interpolation  = 'midpoint')\\n    iqr=q3-q1\\n\\n  #upper = np.where(datosDeCancerCopia[i] >= (q3 + 1.5 * iqr))\\n\\n  #lower = np.where(datosDeCancerCopia[i] <= (q1 - 1.5 * iqr))\\n  #fence_low  = q1-3*iqr\\n  #fence_high = q3+3*iqr\\n  #datosDeCancerCopia = datosDeCancerCopia.loc[(datosDeCancerCopia[i] > fence_low) & (datosDeCancerCopia[i] < fence_high)]\\n\\n    upper = np.where(DataFramelatidosCopia[i] >= (q3 + (1.5 * iqr)))\\n\\n    lower = np.where(DataFramelatidosCopia[i] <= (q1 - (1.5 * iqr)))\\n  #print(upper)\\n  #print(lower)\\n  \\n    for j in upper[0]:\\n    #print(j)\\n        DataFramelatidosCopia[i].drop(j, inplace = True)\\n  \\n    for j in lower[0]:\\n        DataFramelatidosCopia[i].drop(j, inplace = True)\\n    DataFramelatidosCopia[i].reset_index(drop=True, inplace=True)\\n\""
      ]
     },
     "execution_count": 40,
     "metadata": {},
     "output_type": "execute_result"
    }
   ],
   "source": [
    "\"\"\"\n",
    "for i in DataFramelatidosCopia.columns[0:-1]:\n",
    "    q_low = DataFramelatidosCopia[i].quantile(0.20)\n",
    "    q_hi  = DataFramelatidosCopia[i].quantile(0.80)\n",
    "\n",
    "    DataFramelatidosCopia = DataFramelatidosCopia[(DataFramelatidosCopia[i] < q_hi) & (DataFramelatidosCopia[i] > q_low)]\n",
    "    DataFramelatidosCopia\n",
    "    \n",
    "    for i in DataFramelatidosCopia.columns[0:-1]:\n",
    "  #print(datosDeCancerCopia)\n",
    "  #print(i)\n",
    "    q1 = np.percentile(DataFramelatidosCopia[i], 30,\n",
    "               interpolation  = 'midpoint')\n",
    "    q3 = np.percentile(DataFramelatidosCopia[i], 70,\n",
    "               interpolation  = 'midpoint')\n",
    "    iqr=q3-q1\n",
    "\n",
    "  #upper = np.where(datosDeCancerCopia[i] >= (q3 + 1.5 * iqr))\n",
    "\n",
    "  #lower = np.where(datosDeCancerCopia[i] <= (q1 - 1.5 * iqr))\n",
    "  #fence_low  = q1-3*iqr\n",
    "  #fence_high = q3+3*iqr\n",
    "  #datosDeCancerCopia = datosDeCancerCopia.loc[(datosDeCancerCopia[i] > fence_low) & (datosDeCancerCopia[i] < fence_high)]\n",
    "\n",
    "    upper = np.where(DataFramelatidosCopia[i] >= (q3 + (1.5 * iqr)))\n",
    "\n",
    "    lower = np.where(DataFramelatidosCopia[i] <= (q1 - (1.5 * iqr)))\n",
    "  #print(upper)\n",
    "  #print(lower)\n",
    "  \n",
    "    for j in upper[0]:\n",
    "    #print(j)\n",
    "        DataFramelatidosCopia[i].drop(j, inplace = True)\n",
    "  \n",
    "    for j in lower[0]:\n",
    "        DataFramelatidosCopia[i].drop(j, inplace = True)\n",
    "    DataFramelatidosCopia[i].reset_index(drop=True, inplace=True)\n",
    "\"\"\"    \n"
   ]
  },
  {
   "cell_type": "code",
   "execution_count": 41,
   "metadata": {},
   "outputs": [],
   "source": [
    "DataFramelatidosCopia.to_csv(r'C:/Users/andre/Downloads/content/DataFramelatidos.csv', index=False) # se exporta el data frame como un csv a la ruta asiganda\n",
    "#Este documento continua con: \"Entrenamiento y Analisis de ANN del parcial de IA\""
   ]
  },
  {
   "cell_type": "code",
   "execution_count": null,
   "metadata": {},
   "outputs": [],
   "source": []
  },
  {
   "cell_type": "code",
   "execution_count": null,
   "metadata": {},
   "outputs": [],
   "source": []
  }
 ],
 "metadata": {
  "colab": {
   "collapsed_sections": [],
   "provenance": []
  },
  "kernelspec": {
   "display_name": "Python 3 (ipykernel)",
   "language": "python",
   "name": "python3"
  },
  "language_info": {
   "codemirror_mode": {
    "name": "ipython",
    "version": 3
   },
   "file_extension": ".py",
   "mimetype": "text/x-python",
   "name": "python",
   "nbconvert_exporter": "python",
   "pygments_lexer": "ipython3",
   "version": "3.9.12"
  }
 },
 "nbformat": 4,
 "nbformat_minor": 1
}
