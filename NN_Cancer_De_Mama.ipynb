{
  "nbformat": 4,
  "nbformat_minor": 0,
  "metadata": {
    "colab": {
      "provenance": [],
      "collapsed_sections": [],
      "include_colab_link": true
    },
    "kernelspec": {
      "name": "python3",
      "display_name": "Python 3"
    },
    "language_info": {
      "name": "python"
    }
  },
  "cells": [
    {
      "cell_type": "markdown",
      "metadata": {
        "id": "view-in-github",
        "colab_type": "text"
      },
      "source": [
        "<a href=\"https://colab.research.google.com/github/valquero779/Inteligencia-Artifcial/blob/main/NN_Cancer_De_Mama.ipynb\" target=\"_parent\"><img src=\"https://colab.research.google.com/assets/colab-badge.svg\" alt=\"Open In Colab\"/></a>"
      ]
    },
    {
      "cell_type": "code",
      "source": [
        "#pip install numpy --upgrade --ignore-installed"
      ],
      "metadata": {
        "id": "8g05L0dRoFr7"
      },
      "execution_count": 218,
      "outputs": []
    },
    {
      "cell_type": "code",
      "execution_count": 219,
      "metadata": {
        "colab": {
          "base_uri": "https://localhost:8080/"
        },
        "id": "ko9lgo4cAcen",
        "outputId": "c0dc596c-b46f-4dee-86d8-a923a3f61a17"
      },
      "outputs": [
        {
          "output_type": "stream",
          "name": "stdout",
          "text": [
            "       842302  M  17.99  10.38   122.8    1001   0.1184   0.2776   0.3001  \\\n",
            "0      842517  M  20.57  17.77  132.90  1326.0  0.08474  0.07864  0.08690   \n",
            "1    84300903  M  19.69  21.25  130.00  1203.0  0.10960  0.15990  0.19740   \n",
            "2    84348301  M  11.42  20.38   77.58   386.1  0.14250  0.28390  0.24140   \n",
            "3    84358402  M  20.29  14.34  135.10  1297.0  0.10030  0.13280  0.19800   \n",
            "4      843786  M  12.45  15.70   82.57   477.1  0.12780  0.17000  0.15780   \n",
            "..        ... ..    ...    ...     ...     ...      ...      ...      ...   \n",
            "563    926424  M  21.56  22.39  142.00  1479.0  0.11100  0.11590  0.24390   \n",
            "564    926682  M  20.13  28.25  131.20  1261.0  0.09780  0.10340  0.14400   \n",
            "565    926954  M  16.60  28.08  108.30   858.1  0.08455  0.10230  0.09251   \n",
            "566    927241  M  20.60  29.33  140.10  1265.0  0.11780  0.27700  0.35140   \n",
            "567     92751  B   7.76  24.54   47.92   181.0  0.05263  0.04362  0.00000   \n",
            "\n",
            "      0.1471  ...   25.38  17.33   184.6    2019   0.1622   0.6656  0.7119  \\\n",
            "0    0.07017  ...  24.990  23.41  158.80  1956.0  0.12380  0.18660  0.2416   \n",
            "1    0.12790  ...  23.570  25.53  152.50  1709.0  0.14440  0.42450  0.4504   \n",
            "2    0.10520  ...  14.910  26.50   98.87   567.7  0.20980  0.86630  0.6869   \n",
            "3    0.10430  ...  22.540  16.67  152.20  1575.0  0.13740  0.20500  0.4000   \n",
            "4    0.08089  ...  15.470  23.75  103.40   741.6  0.17910  0.52490  0.5355   \n",
            "..       ...  ...     ...    ...     ...     ...      ...      ...     ...   \n",
            "563  0.13890  ...  25.450  26.40  166.10  2027.0  0.14100  0.21130  0.4107   \n",
            "564  0.09791  ...  23.690  38.25  155.00  1731.0  0.11660  0.19220  0.3215   \n",
            "565  0.05302  ...  18.980  34.12  126.70  1124.0  0.11390  0.30940  0.3403   \n",
            "566  0.15200  ...  25.740  39.42  184.60  1821.0  0.16500  0.86810  0.9387   \n",
            "567  0.00000  ...   9.456  30.37   59.16   268.6  0.08996  0.06444  0.0000   \n",
            "\n",
            "     0.2654  0.4601   0.1189  \n",
            "0    0.1860  0.2750  0.08902  \n",
            "1    0.2430  0.3613  0.08758  \n",
            "2    0.2575  0.6638  0.17300  \n",
            "3    0.1625  0.2364  0.07678  \n",
            "4    0.1741  0.3985  0.12440  \n",
            "..      ...     ...      ...  \n",
            "563  0.2216  0.2060  0.07115  \n",
            "564  0.1628  0.2572  0.06637  \n",
            "565  0.1418  0.2218  0.07820  \n",
            "566  0.2650  0.4087  0.12400  \n",
            "567  0.0000  0.2871  0.07039  \n",
            "\n",
            "[568 rows x 32 columns]\n"
          ]
        }
      ],
      "source": [
        "from sklearn.neural_network import MLPClassifier\n",
        "from sklearn.datasets import make_classification\n",
        "from sklearn.model_selection import train_test_split\n",
        "from scipy import stats\n",
        "import numpy as np\n",
        "import pandas as pd\n",
        "\n",
        "#X, y = make_classification(n_samples=200)\n",
        "\n",
        "\n",
        "datosDeCancer = pd.read_csv('cancer_mama.csv')\n",
        "print(datosDeCancer)\n",
        "\n",
        "\n",
        "\n"
      ]
    },
    {
      "cell_type": "code",
      "source": [
        "del datosDeCancer[\"842302\"]\n",
        "print(datosDeCancer)"
      ],
      "metadata": {
        "colab": {
          "base_uri": "https://localhost:8080/"
        },
        "id": "FWd-EwSEBhlb",
        "outputId": "4a7d7d33-22f4-445b-a640-523d4dcc07df"
      },
      "execution_count": 220,
      "outputs": [
        {
          "output_type": "stream",
          "name": "stdout",
          "text": [
            "     M  17.99  10.38   122.8    1001   0.1184   0.2776   0.3001   0.1471  \\\n",
            "0    M  20.57  17.77  132.90  1326.0  0.08474  0.07864  0.08690  0.07017   \n",
            "1    M  19.69  21.25  130.00  1203.0  0.10960  0.15990  0.19740  0.12790   \n",
            "2    M  11.42  20.38   77.58   386.1  0.14250  0.28390  0.24140  0.10520   \n",
            "3    M  20.29  14.34  135.10  1297.0  0.10030  0.13280  0.19800  0.10430   \n",
            "4    M  12.45  15.70   82.57   477.1  0.12780  0.17000  0.15780  0.08089   \n",
            "..  ..    ...    ...     ...     ...      ...      ...      ...      ...   \n",
            "563  M  21.56  22.39  142.00  1479.0  0.11100  0.11590  0.24390  0.13890   \n",
            "564  M  20.13  28.25  131.20  1261.0  0.09780  0.10340  0.14400  0.09791   \n",
            "565  M  16.60  28.08  108.30   858.1  0.08455  0.10230  0.09251  0.05302   \n",
            "566  M  20.60  29.33  140.10  1265.0  0.11780  0.27700  0.35140  0.15200   \n",
            "567  B   7.76  24.54   47.92   181.0  0.05263  0.04362  0.00000  0.00000   \n",
            "\n",
            "     0.2419  ...   25.38  17.33   184.6    2019   0.1622   0.6656  0.7119  \\\n",
            "0    0.1812  ...  24.990  23.41  158.80  1956.0  0.12380  0.18660  0.2416   \n",
            "1    0.2069  ...  23.570  25.53  152.50  1709.0  0.14440  0.42450  0.4504   \n",
            "2    0.2597  ...  14.910  26.50   98.87   567.7  0.20980  0.86630  0.6869   \n",
            "3    0.1809  ...  22.540  16.67  152.20  1575.0  0.13740  0.20500  0.4000   \n",
            "4    0.2087  ...  15.470  23.75  103.40   741.6  0.17910  0.52490  0.5355   \n",
            "..      ...  ...     ...    ...     ...     ...      ...      ...     ...   \n",
            "563  0.1726  ...  25.450  26.40  166.10  2027.0  0.14100  0.21130  0.4107   \n",
            "564  0.1752  ...  23.690  38.25  155.00  1731.0  0.11660  0.19220  0.3215   \n",
            "565  0.1590  ...  18.980  34.12  126.70  1124.0  0.11390  0.30940  0.3403   \n",
            "566  0.2397  ...  25.740  39.42  184.60  1821.0  0.16500  0.86810  0.9387   \n",
            "567  0.1587  ...   9.456  30.37   59.16   268.6  0.08996  0.06444  0.0000   \n",
            "\n",
            "     0.2654  0.4601   0.1189  \n",
            "0    0.1860  0.2750  0.08902  \n",
            "1    0.2430  0.3613  0.08758  \n",
            "2    0.2575  0.6638  0.17300  \n",
            "3    0.1625  0.2364  0.07678  \n",
            "4    0.1741  0.3985  0.12440  \n",
            "..      ...     ...      ...  \n",
            "563  0.2216  0.2060  0.07115  \n",
            "564  0.1628  0.2572  0.06637  \n",
            "565  0.1418  0.2218  0.07820  \n",
            "566  0.2650  0.4087  0.12400  \n",
            "567  0.0000  0.2871  0.07039  \n",
            "\n",
            "[568 rows x 31 columns]\n"
          ]
        }
      ]
    },
    {
      "cell_type": "code",
      "source": [
        "datosDeCancerRename = datosDeCancer.rename({\n",
        "'M': 'Conclusion'\n",
        ", '17.99': 'A'\n",
        ", '10.38': 'B'\n",
        ", '122.8': 'C'\n",
        ", '1001': 'D'\n",
        ", '0.1184': 'E'\n",
        ", '0.2776': 'F'\n",
        ", '0.3001': 'G'\n",
        ", '0.1471': 'H'\n",
        ", '0.2419': 'I'\n",
        ", '25.38': 'J'\n",
        ", '17.33': 'K'\n",
        ", '184.6': 'M'\n",
        ", '2019': 'N'\n",
        ", '0.1622': 'Ñ'\n",
        ", '0.6656': 'O'\n",
        ", '0.7119': 'P'\n",
        ", '0.2654': 'Q'\n",
        ", '0.4601': 'R'\n",
        ", '0.1189': 'S'\n",
        "}, axis=1)\n",
        "\n",
        "print(datosDeCancerRename)"
      ],
      "metadata": {
        "colab": {
          "base_uri": "https://localhost:8080/"
        },
        "id": "JSgziNuAExhE",
        "outputId": "2db456d0-b413-4c50-bd3f-5bbaa42d1a87"
      },
      "execution_count": 221,
      "outputs": [
        {
          "output_type": "stream",
          "name": "stdout",
          "text": [
            "    Conclusion      A      B       C       D        E        F        G  \\\n",
            "0            M  20.57  17.77  132.90  1326.0  0.08474  0.07864  0.08690   \n",
            "1            M  19.69  21.25  130.00  1203.0  0.10960  0.15990  0.19740   \n",
            "2            M  11.42  20.38   77.58   386.1  0.14250  0.28390  0.24140   \n",
            "3            M  20.29  14.34  135.10  1297.0  0.10030  0.13280  0.19800   \n",
            "4            M  12.45  15.70   82.57   477.1  0.12780  0.17000  0.15780   \n",
            "..         ...    ...    ...     ...     ...      ...      ...      ...   \n",
            "563          M  21.56  22.39  142.00  1479.0  0.11100  0.11590  0.24390   \n",
            "564          M  20.13  28.25  131.20  1261.0  0.09780  0.10340  0.14400   \n",
            "565          M  16.60  28.08  108.30   858.1  0.08455  0.10230  0.09251   \n",
            "566          M  20.60  29.33  140.10  1265.0  0.11780  0.27700  0.35140   \n",
            "567          B   7.76  24.54   47.92   181.0  0.05263  0.04362  0.00000   \n",
            "\n",
            "           H       I  ...       J      K       M       N        Ñ        O  \\\n",
            "0    0.07017  0.1812  ...  24.990  23.41  158.80  1956.0  0.12380  0.18660   \n",
            "1    0.12790  0.2069  ...  23.570  25.53  152.50  1709.0  0.14440  0.42450   \n",
            "2    0.10520  0.2597  ...  14.910  26.50   98.87   567.7  0.20980  0.86630   \n",
            "3    0.10430  0.1809  ...  22.540  16.67  152.20  1575.0  0.13740  0.20500   \n",
            "4    0.08089  0.2087  ...  15.470  23.75  103.40   741.6  0.17910  0.52490   \n",
            "..       ...     ...  ...     ...    ...     ...     ...      ...      ...   \n",
            "563  0.13890  0.1726  ...  25.450  26.40  166.10  2027.0  0.14100  0.21130   \n",
            "564  0.09791  0.1752  ...  23.690  38.25  155.00  1731.0  0.11660  0.19220   \n",
            "565  0.05302  0.1590  ...  18.980  34.12  126.70  1124.0  0.11390  0.30940   \n",
            "566  0.15200  0.2397  ...  25.740  39.42  184.60  1821.0  0.16500  0.86810   \n",
            "567  0.00000  0.1587  ...   9.456  30.37   59.16   268.6  0.08996  0.06444   \n",
            "\n",
            "          P       Q       R        S  \n",
            "0    0.2416  0.1860  0.2750  0.08902  \n",
            "1    0.4504  0.2430  0.3613  0.08758  \n",
            "2    0.6869  0.2575  0.6638  0.17300  \n",
            "3    0.4000  0.1625  0.2364  0.07678  \n",
            "4    0.5355  0.1741  0.3985  0.12440  \n",
            "..      ...     ...     ...      ...  \n",
            "563  0.4107  0.2216  0.2060  0.07115  \n",
            "564  0.3215  0.1628  0.2572  0.06637  \n",
            "565  0.3403  0.1418  0.2218  0.07820  \n",
            "566  0.9387  0.2650  0.4087  0.12400  \n",
            "567  0.0000  0.0000  0.2871  0.07039  \n",
            "\n",
            "[568 rows x 31 columns]\n"
          ]
        }
      ]
    },
    {
      "cell_type": "code",
      "source": [
        "datosDeCancerRename=datosDeCancerRename.reindex(columns=[\"A\",\"B\",\"C\",\"D\",\"E\",\"F\",\"G\",\"H\",\"I\",\"J\",\"K\",\"M\",\"N\",\"Ñ\",\"O\",\"P\",\"Q\",\"R\",\"S\",\"Conclusion\"])\n",
        "print(datosDeCancerRename)"
      ],
      "metadata": {
        "colab": {
          "base_uri": "https://localhost:8080/"
        },
        "id": "mDXQdzCvHwpz",
        "outputId": "836be13c-3a05-45b2-b2ec-3d84df3ae9b4"
      },
      "execution_count": 222,
      "outputs": [
        {
          "output_type": "stream",
          "name": "stdout",
          "text": [
            "         A      B       C       D        E        F        G        H       I  \\\n",
            "0    20.57  17.77  132.90  1326.0  0.08474  0.07864  0.08690  0.07017  0.1812   \n",
            "1    19.69  21.25  130.00  1203.0  0.10960  0.15990  0.19740  0.12790  0.2069   \n",
            "2    11.42  20.38   77.58   386.1  0.14250  0.28390  0.24140  0.10520  0.2597   \n",
            "3    20.29  14.34  135.10  1297.0  0.10030  0.13280  0.19800  0.10430  0.1809   \n",
            "4    12.45  15.70   82.57   477.1  0.12780  0.17000  0.15780  0.08089  0.2087   \n",
            "..     ...    ...     ...     ...      ...      ...      ...      ...     ...   \n",
            "563  21.56  22.39  142.00  1479.0  0.11100  0.11590  0.24390  0.13890  0.1726   \n",
            "564  20.13  28.25  131.20  1261.0  0.09780  0.10340  0.14400  0.09791  0.1752   \n",
            "565  16.60  28.08  108.30   858.1  0.08455  0.10230  0.09251  0.05302  0.1590   \n",
            "566  20.60  29.33  140.10  1265.0  0.11780  0.27700  0.35140  0.15200  0.2397   \n",
            "567   7.76  24.54   47.92   181.0  0.05263  0.04362  0.00000  0.00000  0.1587   \n",
            "\n",
            "          J      K       M       N        Ñ        O       P       Q       R  \\\n",
            "0    24.990  23.41  158.80  1956.0  0.12380  0.18660  0.2416  0.1860  0.2750   \n",
            "1    23.570  25.53  152.50  1709.0  0.14440  0.42450  0.4504  0.2430  0.3613   \n",
            "2    14.910  26.50   98.87   567.7  0.20980  0.86630  0.6869  0.2575  0.6638   \n",
            "3    22.540  16.67  152.20  1575.0  0.13740  0.20500  0.4000  0.1625  0.2364   \n",
            "4    15.470  23.75  103.40   741.6  0.17910  0.52490  0.5355  0.1741  0.3985   \n",
            "..      ...    ...     ...     ...      ...      ...     ...     ...     ...   \n",
            "563  25.450  26.40  166.10  2027.0  0.14100  0.21130  0.4107  0.2216  0.2060   \n",
            "564  23.690  38.25  155.00  1731.0  0.11660  0.19220  0.3215  0.1628  0.2572   \n",
            "565  18.980  34.12  126.70  1124.0  0.11390  0.30940  0.3403  0.1418  0.2218   \n",
            "566  25.740  39.42  184.60  1821.0  0.16500  0.86810  0.9387  0.2650  0.4087   \n",
            "567   9.456  30.37   59.16   268.6  0.08996  0.06444  0.0000  0.0000  0.2871   \n",
            "\n",
            "           S Conclusion  \n",
            "0    0.08902          M  \n",
            "1    0.08758          M  \n",
            "2    0.17300          M  \n",
            "3    0.07678          M  \n",
            "4    0.12440          M  \n",
            "..       ...        ...  \n",
            "563  0.07115          M  \n",
            "564  0.06637          M  \n",
            "565  0.07820          M  \n",
            "566  0.12400          M  \n",
            "567  0.07039          B  \n",
            "\n",
            "[568 rows x 20 columns]\n"
          ]
        }
      ]
    },
    {
      "cell_type": "code",
      "source": [
        "datosDeCancerRename['Conclusion'] = datosDeCancerRename['Conclusion'].replace(['M', 'B'], [1, 0])\n",
        "print(datosDeCancerRename)"
      ],
      "metadata": {
        "colab": {
          "base_uri": "https://localhost:8080/"
        },
        "id": "mpf_Im7xKTMd",
        "outputId": "8a16986e-0a73-4ee3-d383-abc8f17281e9"
      },
      "execution_count": 223,
      "outputs": [
        {
          "output_type": "stream",
          "name": "stdout",
          "text": [
            "         A      B       C       D        E        F        G        H       I  \\\n",
            "0    20.57  17.77  132.90  1326.0  0.08474  0.07864  0.08690  0.07017  0.1812   \n",
            "1    19.69  21.25  130.00  1203.0  0.10960  0.15990  0.19740  0.12790  0.2069   \n",
            "2    11.42  20.38   77.58   386.1  0.14250  0.28390  0.24140  0.10520  0.2597   \n",
            "3    20.29  14.34  135.10  1297.0  0.10030  0.13280  0.19800  0.10430  0.1809   \n",
            "4    12.45  15.70   82.57   477.1  0.12780  0.17000  0.15780  0.08089  0.2087   \n",
            "..     ...    ...     ...     ...      ...      ...      ...      ...     ...   \n",
            "563  21.56  22.39  142.00  1479.0  0.11100  0.11590  0.24390  0.13890  0.1726   \n",
            "564  20.13  28.25  131.20  1261.0  0.09780  0.10340  0.14400  0.09791  0.1752   \n",
            "565  16.60  28.08  108.30   858.1  0.08455  0.10230  0.09251  0.05302  0.1590   \n",
            "566  20.60  29.33  140.10  1265.0  0.11780  0.27700  0.35140  0.15200  0.2397   \n",
            "567   7.76  24.54   47.92   181.0  0.05263  0.04362  0.00000  0.00000  0.1587   \n",
            "\n",
            "          J      K       M       N        Ñ        O       P       Q       R  \\\n",
            "0    24.990  23.41  158.80  1956.0  0.12380  0.18660  0.2416  0.1860  0.2750   \n",
            "1    23.570  25.53  152.50  1709.0  0.14440  0.42450  0.4504  0.2430  0.3613   \n",
            "2    14.910  26.50   98.87   567.7  0.20980  0.86630  0.6869  0.2575  0.6638   \n",
            "3    22.540  16.67  152.20  1575.0  0.13740  0.20500  0.4000  0.1625  0.2364   \n",
            "4    15.470  23.75  103.40   741.6  0.17910  0.52490  0.5355  0.1741  0.3985   \n",
            "..      ...    ...     ...     ...      ...      ...     ...     ...     ...   \n",
            "563  25.450  26.40  166.10  2027.0  0.14100  0.21130  0.4107  0.2216  0.2060   \n",
            "564  23.690  38.25  155.00  1731.0  0.11660  0.19220  0.3215  0.1628  0.2572   \n",
            "565  18.980  34.12  126.70  1124.0  0.11390  0.30940  0.3403  0.1418  0.2218   \n",
            "566  25.740  39.42  184.60  1821.0  0.16500  0.86810  0.9387  0.2650  0.4087   \n",
            "567   9.456  30.37   59.16   268.6  0.08996  0.06444  0.0000  0.0000  0.2871   \n",
            "\n",
            "           S  Conclusion  \n",
            "0    0.08902           1  \n",
            "1    0.08758           1  \n",
            "2    0.17300           1  \n",
            "3    0.07678           1  \n",
            "4    0.12440           1  \n",
            "..       ...         ...  \n",
            "563  0.07115           1  \n",
            "564  0.06637           1  \n",
            "565  0.07820           1  \n",
            "566  0.12400           1  \n",
            "567  0.07039           0  \n",
            "\n",
            "[568 rows x 20 columns]\n"
          ]
        }
      ]
    },
    {
      "cell_type": "code",
      "source": [
        "datosDeCancerRename.boxplot(column=[\"A\",\"B\",\"C\",\"D\",\"E\",\"F\",\"G\",\"H\",\"I\",\"J\",\"K\",\"M\",\"N\",\"Ñ\",\"O\",\"P\",\"Q\",\"R\",\"S\",\"Conclusion\"])\n",
        "\n",
        "datosDeCancerCopia=datosDeCancerRename\n",
        "print(datosDeCancerCopia)"
      ],
      "metadata": {
        "colab": {
          "base_uri": "https://localhost:8080/",
          "height": 959
        },
        "id": "xZpshgzyK6Ez",
        "outputId": "278d3fdb-6c03-4107-d411-327c7dc58197"
      },
      "execution_count": 224,
      "outputs": [
        {
          "output_type": "stream",
          "name": "stdout",
          "text": [
            "         A      B       C       D        E        F        G        H       I  \\\n",
            "0    20.57  17.77  132.90  1326.0  0.08474  0.07864  0.08690  0.07017  0.1812   \n",
            "1    19.69  21.25  130.00  1203.0  0.10960  0.15990  0.19740  0.12790  0.2069   \n",
            "2    11.42  20.38   77.58   386.1  0.14250  0.28390  0.24140  0.10520  0.2597   \n",
            "3    20.29  14.34  135.10  1297.0  0.10030  0.13280  0.19800  0.10430  0.1809   \n",
            "4    12.45  15.70   82.57   477.1  0.12780  0.17000  0.15780  0.08089  0.2087   \n",
            "..     ...    ...     ...     ...      ...      ...      ...      ...     ...   \n",
            "563  21.56  22.39  142.00  1479.0  0.11100  0.11590  0.24390  0.13890  0.1726   \n",
            "564  20.13  28.25  131.20  1261.0  0.09780  0.10340  0.14400  0.09791  0.1752   \n",
            "565  16.60  28.08  108.30   858.1  0.08455  0.10230  0.09251  0.05302  0.1590   \n",
            "566  20.60  29.33  140.10  1265.0  0.11780  0.27700  0.35140  0.15200  0.2397   \n",
            "567   7.76  24.54   47.92   181.0  0.05263  0.04362  0.00000  0.00000  0.1587   \n",
            "\n",
            "          J      K       M       N        Ñ        O       P       Q       R  \\\n",
            "0    24.990  23.41  158.80  1956.0  0.12380  0.18660  0.2416  0.1860  0.2750   \n",
            "1    23.570  25.53  152.50  1709.0  0.14440  0.42450  0.4504  0.2430  0.3613   \n",
            "2    14.910  26.50   98.87   567.7  0.20980  0.86630  0.6869  0.2575  0.6638   \n",
            "3    22.540  16.67  152.20  1575.0  0.13740  0.20500  0.4000  0.1625  0.2364   \n",
            "4    15.470  23.75  103.40   741.6  0.17910  0.52490  0.5355  0.1741  0.3985   \n",
            "..      ...    ...     ...     ...      ...      ...     ...     ...     ...   \n",
            "563  25.450  26.40  166.10  2027.0  0.14100  0.21130  0.4107  0.2216  0.2060   \n",
            "564  23.690  38.25  155.00  1731.0  0.11660  0.19220  0.3215  0.1628  0.2572   \n",
            "565  18.980  34.12  126.70  1124.0  0.11390  0.30940  0.3403  0.1418  0.2218   \n",
            "566  25.740  39.42  184.60  1821.0  0.16500  0.86810  0.9387  0.2650  0.4087   \n",
            "567   9.456  30.37   59.16   268.6  0.08996  0.06444  0.0000  0.0000  0.2871   \n",
            "\n",
            "           S  Conclusion  \n",
            "0    0.08902           1  \n",
            "1    0.08758           1  \n",
            "2    0.17300           1  \n",
            "3    0.07678           1  \n",
            "4    0.12440           1  \n",
            "..       ...         ...  \n",
            "563  0.07115           1  \n",
            "564  0.06637           1  \n",
            "565  0.07820           1  \n",
            "566  0.12400           1  \n",
            "567  0.07039           0  \n",
            "\n",
            "[568 rows x 20 columns]\n"
          ]
        },
        {
          "output_type": "display_data",
          "data": {
            "text/plain": [
              "<Figure size 432x288 with 1 Axes>"
            ],
            "image/png": "[encoded data removed]"
          },
          "metadata": {
            "needs_background": "light"
          }
        }
      ]
    },
    {
      "cell_type": "code",
      "source": [
        "\n",
        "Recorrido= [\"A\",\"B\",\"C\",\"D\",\"E\",\"F\",\"G\",\"H\",\"I\",\"J\",\"K\",\"M\",\"N\",\"Ñ\",\"O\",\"P\",\"Q\",\"R\",\"S\"]\n",
        "\n",
        "for i in Recorrido:\n",
        "  #print(datosDeCancerCopia)\n",
        "  #print(i)\n",
        "  q1 = np.percentile(datosDeCancerCopia[i], 30,\n",
        "               interpolation  = 'midpoint')\n",
        "  q3 = np.percentile(datosDeCancerCopia[i], 70,\n",
        "               interpolation  = 'midpoint')\n",
        "  iqr=q3-q1\n",
        "\n",
        "  #upper = np.where(datosDeCancerCopia[i] >= (q3 + 1.5 * iqr))\n",
        "\n",
        "  #lower = np.where(datosDeCancerCopia[i] <= (q1 - 1.5 * iqr))\n",
        "  #fence_low  = q1-3*iqr\n",
        "  #fence_high = q3+3*iqr\n",
        "  #datosDeCancerCopia = datosDeCancerCopia.loc[(datosDeCancerCopia[i] > fence_low) & (datosDeCancerCopia[i] < fence_high)]\n",
        "\n",
        "  upper = np.where(datosDeCancerCopia[i] >= (q3 + (1.5 * iqr)))\n",
        "\n",
        "  lower = np.where(datosDeCancerCopia[i] <= (q1 - (1.5 * iqr)))\n",
        "  #print(upper)\n",
        "  #print(lower)\n",
        "  \n",
        "  for j in upper[0]:\n",
        "    #print(j)\n",
        "    datosDeCancerCopia.drop(j, inplace = True)\n",
        "  \n",
        "  for j in lower[0]:\n",
        "    datosDeCancerCopia.drop(j, inplace = True)\n",
        "  datosDeCancerCopia.reset_index(drop=True, inplace=True)\n",
        "  \n",
        "\n",
        "datosDeCancerCopia.boxplot(column=[\"A\",\"B\",\"C\",\"D\",\"E\",\"F\",\"G\",\"H\",\"I\",\"J\",\"K\",\"M\",\"N\",\"Ñ\",\"O\",\"P\",\"Q\",\"R\",\"S\",\"Conclusion\"])"
      ],
      "metadata": {
        "colab": {
          "base_uri": "https://localhost:8080/",
          "height": 282
        },
        "id": "Cr8EBKHxfo-1",
        "outputId": "9baf6fc5-c1ff-4a9f-82be-bef4c7ee3ca6"
      },
      "execution_count": 225,
      "outputs": [
        {
          "output_type": "execute_result",
          "data": {
            "text/plain": [
              "<matplotlib.axes._subplots.AxesSubplot at 0x7f45793ea910>"
            ]
          },
          "metadata": {},
          "execution_count": 225
        },
        {
          "output_type": "display_data",
          "data": {
            "text/plain": [
              "<Figure size 432x288 with 1 Axes>"
            ],
            "image/png": "[encoded data removed]"
          },
          "metadata": {
            "needs_background": "light"
          }
        }
      ]
    },
    {
      "cell_type": "code",
      "source": [
        "matrizDeCorrelacion=datosDeCancerCopia.corr()\n",
        "print(matrizDeCorrelacion)"
      ],
      "metadata": {
        "colab": {
          "base_uri": "https://localhost:8080/"
        },
        "id": "c99JIayfu8CM",
        "outputId": "034d5687-e69b-4c42-91d6-2ec7c0315bf1"
      },
      "execution_count": 226,
      "outputs": [
        {
          "output_type": "stream",
          "name": "stdout",
          "text": [
            "                   A         B         C         D         E         F  \\\n",
            "A           1.000000 -0.005609  0.997506  0.997047 -0.314701 -0.034383   \n",
            "B          -0.005609  1.000000 -0.000175  0.000193 -0.017037  0.093542   \n",
            "C           0.997506 -0.000175  1.000000  0.993164 -0.275663  0.032256   \n",
            "D           0.997047  0.000193  0.993164  1.000000 -0.339378 -0.060225   \n",
            "E          -0.314701 -0.017037 -0.275663 -0.339378  1.000000  0.658501   \n",
            "F          -0.034383  0.093542  0.032256 -0.060225  0.658501  1.000000   \n",
            "G           0.057518  0.083959  0.112482  0.045085  0.310586  0.728406   \n",
            "H           0.256044 -0.035453  0.300117  0.237475  0.490234  0.648420   \n",
            "I          -0.207418  0.121012 -0.182203 -0.219930  0.348351  0.368588   \n",
            "J           0.958169  0.034774  0.956526  0.957961 -0.305992 -0.021662   \n",
            "K          -0.018089  0.874765 -0.013672 -0.013054  0.004822  0.072893   \n",
            "M           0.951494  0.034100  0.957123  0.949612 -0.281194  0.064203   \n",
            "N           0.955249  0.038585  0.952372  0.960197 -0.328895 -0.045984   \n",
            "Ñ          -0.381840 -0.050286 -0.352759 -0.400032  0.779956  0.484360   \n",
            "O           0.080753  0.029171  0.136885  0.062588  0.267612  0.762338   \n",
            "P           0.106045  0.007738  0.150768  0.092691  0.146721  0.558215   \n",
            "Q           0.283954 -0.032740  0.320312  0.265920  0.294498  0.514461   \n",
            "R          -0.121438  0.040736 -0.104314 -0.135851  0.163069  0.208385   \n",
            "S          -0.356800 -0.006259 -0.320718 -0.364988  0.373380  0.517482   \n",
            "Conclusion  0.044220  0.135325  0.042059  0.046754 -0.006709 -0.060153   \n",
            "\n",
            "                   G         H         I         J         K         M  \\\n",
            "A           0.057518  0.256044 -0.207418  0.958169 -0.018089  0.951494   \n",
            "B           0.083959 -0.035453  0.121012  0.034774  0.874765  0.034100   \n",
            "C           0.112482  0.300117 -0.182203  0.956526 -0.013672  0.957123   \n",
            "D           0.045085  0.237475 -0.219930  0.957961 -0.013054  0.949612   \n",
            "E           0.310586  0.490234  0.348351 -0.305992  0.004822 -0.281194   \n",
            "F           0.728406  0.648420  0.368588 -0.021662  0.072893  0.064203   \n",
            "G           1.000000  0.711139  0.279085  0.062945  0.072670  0.140887   \n",
            "H           0.711139  1.000000  0.260195  0.242453 -0.046194  0.288045   \n",
            "I           0.279085  0.260195  1.000000 -0.178156  0.124896 -0.141374   \n",
            "J           0.062945  0.242453 -0.178156  1.000000  0.063681  0.987660   \n",
            "K           0.072670 -0.046194  0.124896  0.063681  1.000000  0.064499   \n",
            "M           0.140887  0.288045 -0.141374  0.987660  0.064499  1.000000   \n",
            "N           0.051078  0.224132 -0.197668  0.996244  0.064813  0.982599   \n",
            "Ñ           0.244044  0.333795  0.300239 -0.320753  0.092240 -0.302363   \n",
            "O           0.660323  0.443135  0.258997  0.133022  0.129236  0.234640   \n",
            "P           0.833873  0.479268  0.225623  0.158243  0.120302  0.235500   \n",
            "Q           0.621625  0.778983  0.241137  0.332841  0.076230  0.379401   \n",
            "R           0.164990  0.061551  0.655785 -0.061549  0.177798 -0.021201   \n",
            "S           0.368708  0.136770  0.167581 -0.297564  0.094851 -0.231428   \n",
            "Conclusion  0.012152  0.067316 -0.024387  0.093444  0.163170  0.078583   \n",
            "\n",
            "                   N         Ñ         O         P         Q         R  \\\n",
            "A           0.955249 -0.381840  0.080753  0.106045  0.283954 -0.121438   \n",
            "B           0.038585 -0.050286  0.029171  0.007738 -0.032740  0.040736   \n",
            "C           0.952372 -0.352759  0.136885  0.150768  0.320312 -0.104314   \n",
            "D           0.960197 -0.400032  0.062588  0.092691  0.265920 -0.135851   \n",
            "E          -0.328895  0.779956  0.267612  0.146721  0.294498  0.163069   \n",
            "F          -0.045984  0.484360  0.762338  0.558215  0.514461  0.208385   \n",
            "G           0.051078  0.244044  0.660323  0.833873  0.621625  0.164990   \n",
            "H           0.224132  0.333795  0.443135  0.479268  0.778983  0.061551   \n",
            "I          -0.197668  0.300239  0.258997  0.225623  0.241137  0.655785   \n",
            "J           0.996244 -0.320753  0.133022  0.158243  0.332841 -0.061549   \n",
            "K           0.064813  0.092240  0.129236  0.120302  0.076230  0.177798   \n",
            "M           0.982599 -0.302363  0.234640  0.235500  0.379401 -0.021201   \n",
            "N           1.000000 -0.339296  0.115449  0.146833  0.316313 -0.085085   \n",
            "Ñ          -0.339296  1.000000  0.376536  0.281195  0.386475  0.349219   \n",
            "O           0.115449  0.376536  1.000000  0.794508  0.622702  0.391533   \n",
            "P           0.146833  0.281195  0.794508  1.000000  0.691421  0.365073   \n",
            "Q           0.316313  0.386475  0.622702  0.691421  1.000000  0.301155   \n",
            "R          -0.085085  0.349219  0.391533  0.365073  0.301155  1.000000   \n",
            "S          -0.307878  0.549087  0.629549  0.463358  0.290807  0.310211   \n",
            "Conclusion  0.101948 -0.012935 -0.023559  0.058903  0.121170 -0.024059   \n",
            "\n",
            "                   S  Conclusion  \n",
            "A          -0.356800    0.044220  \n",
            "B          -0.006259    0.135325  \n",
            "C          -0.320718    0.042059  \n",
            "D          -0.364988    0.046754  \n",
            "E           0.373380   -0.006709  \n",
            "F           0.517482   -0.060153  \n",
            "G           0.368708    0.012152  \n",
            "H           0.136770    0.067316  \n",
            "I           0.167581   -0.024387  \n",
            "J          -0.297564    0.093444  \n",
            "K           0.094851    0.163170  \n",
            "M          -0.231428    0.078583  \n",
            "N          -0.307878    0.101948  \n",
            "Ñ           0.549087   -0.012935  \n",
            "O           0.629549   -0.023559  \n",
            "P           0.463358    0.058903  \n",
            "Q           0.290807    0.121170  \n",
            "R           0.310211   -0.024059  \n",
            "S           1.000000   -0.026629  \n",
            "Conclusion -0.026629    1.000000  \n"
          ]
        }
      ]
    },
    {
      "cell_type": "code",
      "source": [
        "x=datosDeCancerCopia[[ \"A\",\"B\",\"C\",\"D\",\"E\",\"F\",\"G\",\"H\",\"I\",\"J\",\"K\",\"M\",\"N\",\"Ñ\",\"O\",\"P\",\"Q\",\"R\",\"S\"]]\n",
        "y=datosDeCancerCopia[[ \"Conclusion\"]]"
      ],
      "metadata": {
        "id": "RAfOz061vF0S"
      },
      "execution_count": 227,
      "outputs": []
    },
    {
      "cell_type": "code",
      "source": [
        "\n",
        "\n",
        "X_train, X_test, y_train, y_test = train_test_split(x, y,train_size=0.6)\n",
        "print(len(X_train))\n",
        "clf = MLPClassifier(max_iter=200).fit(X_train, y_train)\n",
        "clf.score(X_test, y_test) ## ENTRE MÁS ALTO, MEJOR"
      ],
      "metadata": {
        "colab": {
          "base_uri": "https://localhost:8080/"
        },
        "id": "k3fBENyNASVq",
        "outputId": "952324e0-adc1-40a2-ab4c-8367d53f6df5"
      },
      "execution_count": 228,
      "outputs": [
        {
          "output_type": "stream",
          "name": "stdout",
          "text": [
            "125\n"
          ]
        },
        {
          "output_type": "stream",
          "name": "stderr",
          "text": [
            "/usr/local/lib/python3.7/dist-packages/sklearn/neural_network/_multilayer_perceptron.py:1109: DataConversionWarning: A column-vector y was passed when a 1d array was expected. Please change the shape of y to (n_samples, ), for example using ravel().\n",
            "  y = column_or_1d(y, warn=True)\n"
          ]
        },
        {
          "output_type": "execute_result",
          "data": {
            "text/plain": [
              "0.9761904761904762"
            ]
          },
          "metadata": {},
          "execution_count": 228
        }
      ]
    }
  ]
}